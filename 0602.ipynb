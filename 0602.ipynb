{
 "cells": [
  {
   "cell_type": "code",
   "execution_count": 13,
   "metadata": {
    "ExecuteTime": {
     "end_time": "2020-06-02T03:04:49.821484Z",
     "start_time": "2020-06-02T03:04:49.814651Z"
    },
    "scrolled": false
   },
   "outputs": [
    {
     "data": {
      "text/plain": [
       "42"
      ]
     },
     "execution_count": 13,
     "metadata": {},
     "output_type": "execute_result"
    }
   ],
   "source": [
    "b = [1,2,3,4,5,[8,9],10]\n",
    "for i in range(len(b)):\n",
    "    if type(b[i]) == list:\n",
    "        #print(b[i])\n",
    "        b[i] = sum(b[i])\n",
    "#sum(b)\n",
    "sum(b)"
   ]
  },
  {
   "cell_type": "code",
   "execution_count": 9,
   "metadata": {
    "ExecuteTime": {
     "end_time": "2020-06-02T07:07:36.829184Z",
     "start_time": "2020-06-02T07:07:36.824182Z"
    },
    "scrolled": false
   },
   "outputs": [
    {
     "data": {
      "text/plain": [
       "51"
      ]
     },
     "execution_count": 9,
     "metadata": {},
     "output_type": "execute_result"
    }
   ],
   "source": [
    "import numpy as np\n",
    "a = [1,7,11,12,14,23,33,47,51,64,67,77,139,672,871]\n",
    "\n",
    "a[int(len(a)/2)]"
   ]
  },
  {
   "cell_type": "code",
   "execution_count": 29,
   "metadata": {
    "ExecuteTime": {
     "end_time": "2020-06-02T07:21:35.082561Z",
     "start_time": "2020-06-02T07:21:35.073567Z"
    },
    "scrolled": true
   },
   "outputs": [
    {
     "data": {
      "text/plain": [
       "[51, 64, 67]"
      ]
     },
     "execution_count": 29,
     "metadata": {},
     "output_type": "execute_result"
    }
   ],
   "source": [
    "import numpy as np\n",
    "a = [1,7,11,12,14,23,33,47,51,64,67,77,139,672,871]\n",
    "\n",
    "del( a[:int(len(a)/2)+1])\n",
    "\n",
    "a\n",
    "\n",
    "m = a[int(len(a)/2)]\n",
    "if m >67:\n",
    "    del( a[int(len(a)/2):])\n",
    "\n",
    "a"
   ]
  },
  {
   "cell_type": "code",
   "execution_count": null,
   "metadata": {},
   "outputs": [],
   "source": []
  },
  {
   "cell_type": "code",
   "execution_count": 12,
   "metadata": {
    "ExecuteTime": {
     "end_time": "2020-06-02T07:08:31.340719Z",
     "start_time": "2020-06-02T07:08:31.327727Z"
    },
    "scrolled": true
   },
   "outputs": [
    {
     "ename": "IndexError",
     "evalue": "list index out of range",
     "output_type": "error",
     "traceback": [
      "\u001b[1;31m---------------------------------------------------------------------------\u001b[0m",
      "\u001b[1;31mIndexError\u001b[0m                                Traceback (most recent call last)",
      "\u001b[1;32m<ipython-input-12-4c8d6f1aebba>\u001b[0m in \u001b[0;36m<module>\u001b[1;34m\u001b[0m\n\u001b[0;32m      5\u001b[0m \u001b[0mcnt\u001b[0m \u001b[1;33m=\u001b[0m \u001b[1;36m0\u001b[0m\u001b[1;33m\u001b[0m\u001b[1;33m\u001b[0m\u001b[0m\n\u001b[0;32m      6\u001b[0m \u001b[1;32mwhile\u001b[0m \u001b[0mf\u001b[0m\u001b[1;33m!=\u001b[0m\u001b[0msum\u001b[0m\u001b[1;33m(\u001b[0m\u001b[0mr\u001b[0m\u001b[1;33m)\u001b[0m\u001b[1;33m:\u001b[0m\u001b[1;33m\u001b[0m\u001b[1;33m\u001b[0m\u001b[0m\n\u001b[1;32m----> 7\u001b[1;33m     \u001b[0ma_m\u001b[0m \u001b[1;33m=\u001b[0m \u001b[0ma\u001b[0m\u001b[1;33m[\u001b[0m\u001b[0mint\u001b[0m\u001b[1;33m(\u001b[0m\u001b[0mlen\u001b[0m\u001b[1;33m(\u001b[0m\u001b[0ma\u001b[0m\u001b[1;33m)\u001b[0m\u001b[1;33m/\u001b[0m\u001b[1;36m2\u001b[0m\u001b[1;33m)\u001b[0m\u001b[1;33m]\u001b[0m\u001b[1;33m\u001b[0m\u001b[1;33m\u001b[0m\u001b[0m\n\u001b[0m\u001b[0;32m      8\u001b[0m     \u001b[0mcnt\u001b[0m \u001b[1;33m+=\u001b[0m \u001b[1;36m1\u001b[0m\u001b[1;33m\u001b[0m\u001b[1;33m\u001b[0m\u001b[0m\n\u001b[0;32m      9\u001b[0m     \u001b[1;32mif\u001b[0m \u001b[0mnp\u001b[0m\u001b[1;33m.\u001b[0m\u001b[0mmedian\u001b[0m\u001b[1;33m(\u001b[0m\u001b[0ma\u001b[0m\u001b[1;33m)\u001b[0m\u001b[1;33m<\u001b[0m\u001b[0mf\u001b[0m\u001b[1;33m:\u001b[0m\u001b[1;33m\u001b[0m\u001b[1;33m\u001b[0m\u001b[0m\n",
      "\u001b[1;31mIndexError\u001b[0m: list index out of range"
     ]
    }
   ],
   "source": [
    "import numpy as np\n",
    "f = 64\n",
    "a = [1,7,11,12,14,23,33,47,51,64,67,77,139,672,871]\n",
    "r = []\n",
    "cnt = 0\n",
    "while f!=sum(r):\n",
    "    a_m = a[int(len(a)/2)]\n",
    "    cnt += 1\n",
    "    if np.median(a)<f:\n",
    "        a = a[a.index(a_m):]\n",
    "    else:\n",
    "        a = a[:a.index(a_m)+1]\n",
    "#a.index(np.median(a))\n",
    "print(cnt)"
   ]
  },
  {
   "cell_type": "code",
   "execution_count": 38,
   "metadata": {
    "ExecuteTime": {
     "end_time": "2020-06-02T07:46:35.110250Z",
     "start_time": "2020-06-02T07:46:33.556870Z"
    }
   },
   "outputs": [
    {
     "name": "stdout",
     "output_type": "stream",
     "text": [
      "검색할숫자 입력67\n",
      "4\n"
     ]
    }
   ],
   "source": [
    "import numpy as np\n",
    "f = int(input('검색할숫자 입력'))\n",
    "a = [1,7,11,12,14,23,33,47,51,64,67,77,139,672,871]\n",
    "cnt = 1\n",
    "while f != a[int(len(a)/2)]:\n",
    "    \n",
    "    if f> a[int(len(a)/2)]:\n",
    "        del( a[:int(len(a)/2)+1])\n",
    "        cnt += 1\n",
    "    elif f<a[int(len(a)/2)]:\n",
    "        del( a[int(len(a)/2):])\n",
    "        cnt += 1\n",
    "# a\n",
    "\n",
    "# a[int(len(a)/2)]\n",
    "print(cnt)"
   ]
  },
  {
   "cell_type": "code",
   "execution_count": 1,
   "metadata": {
    "ExecuteTime": {
     "end_time": "2020-06-02T08:16:00.287950Z",
     "start_time": "2020-06-02T08:15:59.318074Z"
    }
   },
   "outputs": [
    {
     "name": "stdout",
     "output_type": "stream",
     "text": [
      "숫자 입력63\n",
      "63는 a리스트에서 검색되지 않습니다.\n"
     ]
    }
   ],
   "source": [
    "#import numpy as np\n",
    "f = int(input('숫자 입력'))\n",
    "a = [1,7,11,12,14,23,33,47,51,64,67,77,139,672,871]\n",
    "cnt = 1\n",
    "try:\n",
    "    while f != a[int(len(a)/2)]:\n",
    "\n",
    "        if f> a[int(len(a)/2)]:\n",
    "            del( a[:int(len(a)/2)+1])\n",
    "            cnt += 1\n",
    "        elif f<a[int(len(a)/2)]:\n",
    "            del( a[int(len(a)/2):])\n",
    "            cnt += 1\n",
    "    print('%d는 이진탐색 %d번 만에 찾았습니다.'%(f,cnt))\n",
    "except:\n",
    "    print('%d는 a리스트에서 검색되지 않습니다.'%f)\n",
    "# a\n",
    "\n",
    "# a[int(len(a)/2)]\n",
    "#print(cnt)"
   ]
  }
 ],
 "metadata": {
  "kernelspec": {
   "display_name": "Python 3",
   "language": "python",
   "name": "python3"
  },
  "language_info": {
   "codemirror_mode": {
    "name": "ipython",
    "version": 3
   },
   "file_extension": ".py",
   "mimetype": "text/x-python",
   "name": "python",
   "nbconvert_exporter": "python",
   "pygments_lexer": "ipython3",
   "version": "3.7.6"
  },
  "varInspector": {
   "cols": {
    "lenName": 16,
    "lenType": 16,
    "lenVar": 40
   },
   "kernels_config": {
    "python": {
     "delete_cmd_postfix": "",
     "delete_cmd_prefix": "del ",
     "library": "var_list.py",
     "varRefreshCmd": "print(var_dic_list())"
    },
    "r": {
     "delete_cmd_postfix": ") ",
     "delete_cmd_prefix": "rm(",
     "library": "var_list.r",
     "varRefreshCmd": "cat(var_dic_list()) "
    }
   },
   "types_to_exclude": [
    "module",
    "function",
    "builtin_function_or_method",
    "instance",
    "_Feature"
   ],
   "window_display": false
  }
 },
 "nbformat": 4,
 "nbformat_minor": 4
}
