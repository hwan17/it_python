{
 "cells": [
  {
   "cell_type": "code",
   "execution_count": 8,
   "metadata": {
    "ExecuteTime": {
     "end_time": "2020-06-15T08:04:19.026762Z",
     "start_time": "2020-06-15T08:04:19.019767Z"
    },
    "scrolled": true
   },
   "outputs": [
    {
     "name": "stdout",
     "output_type": "stream",
     "text": [
      "['101110', '100001', '100001', '010110', '011111', '110010']\n"
     ]
    }
   ],
   "source": [
    "n = 6\n",
    "data = [46, 33, 33 ,22, 31, 50]\n",
    "str1=['']*len(data)\n",
    "#print(str1)\n",
    "for j in range(len(data)):\n",
    "    for i in range(n):\n",
    "        if data[j] >= 2**(n-(i+1)):\n",
    "            data[j] -= 2**(n-(i+1))\n",
    "            str1[j]+='1'\n",
    "        else:\n",
    "            str1[j]+='0'\n",
    "        \n",
    "print(str1)"
   ]
  },
  {
   "cell_type": "code",
   "execution_count": 9,
   "metadata": {
    "ExecuteTime": {
     "end_time": "2020-06-15T08:35:13.605977Z",
     "start_time": "2020-06-15T08:35:13.587987Z"
    }
   },
   "outputs": [
    {
     "data": {
      "text/plain": [
       "['######', '###  #', '##  ##', ' #### ', ' #####', '### # ']"
      ]
     },
     "execution_count": 9,
     "metadata": {},
     "output_type": "execute_result"
    }
   ],
   "source": [
    "def change(a,n):\n",
    "    return bin(a)[2:].rjust(n,'0')\n",
    "# 설명 2번째 자리부터 출력하는데 전체 5자리 잡고 나머지 공간에 0을 채워라 rjust -> 오른쪽에 값쓰고 나머지 공간 채움\n",
    "\n",
    "arr1 = [46, 33, 33 ,22, 31, 50]\n",
    "arr2 = [27 ,56, 19, 14, 14, 10]\n",
    "n = 6\n",
    "res =[]\n",
    "for ar1,ar2 in zip(arr1,arr2):\n",
    "    a1 = change(ar1,n)\n",
    "    a2 = change(ar2,n)\n",
    "    f = ''\n",
    "    for i in range(n):\n",
    "        if a1[i] == '0' and a2[i] == '0':\n",
    "            f+= ' '\n",
    "        else :\n",
    "            f+='#'\n",
    "        #print(f)\n",
    "    res.append(f)\n",
    "res"
   ]
  }
 ],
 "metadata": {
  "kernelspec": {
   "display_name": "Python 3",
   "language": "python",
   "name": "python3"
  },
  "language_info": {
   "codemirror_mode": {
    "name": "ipython",
    "version": 3
   },
   "file_extension": ".py",
   "mimetype": "text/x-python",
   "name": "python",
   "nbconvert_exporter": "python",
   "pygments_lexer": "ipython3",
   "version": "3.7.6"
  },
  "varInspector": {
   "cols": {
    "lenName": 16,
    "lenType": 16,
    "lenVar": 40
   },
   "kernels_config": {
    "python": {
     "delete_cmd_postfix": "",
     "delete_cmd_prefix": "del ",
     "library": "var_list.py",
     "varRefreshCmd": "print(var_dic_list())"
    },
    "r": {
     "delete_cmd_postfix": ") ",
     "delete_cmd_prefix": "rm(",
     "library": "var_list.r",
     "varRefreshCmd": "cat(var_dic_list()) "
    }
   },
   "types_to_exclude": [
    "module",
    "function",
    "builtin_function_or_method",
    "instance",
    "_Feature"
   ],
   "window_display": false
  }
 },
 "nbformat": 4,
 "nbformat_minor": 4
}
