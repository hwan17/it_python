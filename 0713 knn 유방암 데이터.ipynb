{
 "cells": [
  {
   "cell_type": "code",
   "execution_count": 2,
   "metadata": {
    "ExecuteTime": {
     "end_time": "2020-07-13T01:05:47.158747Z",
     "start_time": "2020-07-13T01:05:45.621687Z"
    },
    "scrolled": true
   },
   "outputs": [
    {
     "name": "stdout",
     "output_type": "stream",
     "text": [
      "[[98  0]\n",
      " [ 8 65]]\n",
      "0.9532163742690059\n"
     ]
    }
   ],
   "source": [
    "import pandas as pd # 데이터 전처리 및 데이터 탐색 목적\n",
    "import seaborn as sns # 시각화 목적\n",
    "df = pd.read_csv(\"d:\\\\data\\\\csv\\\\wisc_bc_data.csv\") # 2장 내용 ( 데이터 불러오기 )\n",
    "\n",
    "dia = pd.get_dummies(df['diagnosis'],prefix='diagnosis') # 4장 더미변수\n",
    "df = pd.concat([df, dia],axis=1) # 1장 내용\n",
    "df.drop (['diagnosis'],axis=1,inplace=True) # 1장 내용 컬럼 삭제\n",
    "X = df.iloc[:,:-2].values #diagnosis_B도 제거 / 1장 내용 / 훈련 데이터 준비\n",
    "y = df['diagnosis_M'] # 1장 내용 / 라벨 준비\n",
    "\n",
    "from sklearn import preprocessing # 7장 머신러닝 내용, 사이킷런 사용\n",
    "X=preprocessing.StandardScaler().fit(X).transform(X) # 훈련 데이터 정규화\n",
    "from sklearn.model_selection import train_test_split # 훈련데이터와 테스트 데이터 분리\n",
    "\n",
    "# 훈련데이터 70, 테스트 데이터 30으로 나눈다.\n",
    "X_train, X_test, y_train, y_test = train_test_split(X,y,test_size =0.3, random_state = 10)\n",
    "\n",
    "\n",
    "# k값 26을 줘서 knn 모델생성 코드\n",
    "from sklearn.neighbors import KNeighborsClassifier\n",
    "knn = KNeighborsClassifier(n_neighbors =26) #k값:5 노가다로 알아내야한다.\n",
    "\n",
    "# 훈련시키는 코드\n",
    "knn.fit(X_train, y_train)\n",
    "\n",
    "# 테스트 데이터의 성능을 확인하기 위해 예측하는 코드\n",
    "y_hat = knn.predict(X_test)\n",
    "\n",
    "# 2원교차표 보는 코드\n",
    "from sklearn import metrics\n",
    "knn_matrix = metrics.confusion_matrix(y_test,y_hat)\n",
    "print(knn_matrix)\n",
    "\n",
    "# 정확도를 확인하는 코드\n",
    "from sklearn.metrics import accuracy_score\n",
    "accuracy = accuracy_score( y_test, y_hat)\n",
    "print(accuracy)\n"
   ]
  },
  {
   "cell_type": "code",
   "execution_count": null,
   "metadata": {},
   "outputs": [],
   "source": []
  }
 ],
 "metadata": {
  "kernelspec": {
   "display_name": "Python 3",
   "language": "python",
   "name": "python3"
  },
  "language_info": {
   "codemirror_mode": {
    "name": "ipython",
    "version": 3
   },
   "file_extension": ".py",
   "mimetype": "text/x-python",
   "name": "python",
   "nbconvert_exporter": "python",
   "pygments_lexer": "ipython3",
   "version": "3.7.6"
  },
  "varInspector": {
   "cols": {
    "lenName": 16,
    "lenType": 16,
    "lenVar": 40
   },
   "kernels_config": {
    "python": {
     "delete_cmd_postfix": "",
     "delete_cmd_prefix": "del ",
     "library": "var_list.py",
     "varRefreshCmd": "print(var_dic_list())"
    },
    "r": {
     "delete_cmd_postfix": ") ",
     "delete_cmd_prefix": "rm(",
     "library": "var_list.r",
     "varRefreshCmd": "cat(var_dic_list()) "
    }
   },
   "types_to_exclude": [
    "module",
    "function",
    "builtin_function_or_method",
    "instance",
    "_Feature"
   ],
   "window_display": false
  }
 },
 "nbformat": 4,
 "nbformat_minor": 4
}
