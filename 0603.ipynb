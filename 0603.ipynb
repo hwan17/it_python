{
 "cells": [
  {
   "cell_type": "code",
   "execution_count": 10,
   "metadata": {
    "ExecuteTime": {
     "end_time": "2020-06-03T02:38:17.807029Z",
     "start_time": "2020-06-03T02:38:17.663513Z"
    },
    "scrolled": true
   },
   "outputs": [
    {
     "data": {
      "image/png": "[encoded data removed]",
      "text/plain": [
       "<Figure size 432x288 with 1 Axes>"
      ]
     },
     "metadata": {
      "needs_background": "light"
     },
     "output_type": "display_data"
    }
   ],
   "source": [
    "import numpy as np\n",
    "import matplotlib.pyplot as plt\n",
    "import random\n",
    "\n",
    "def dice_prob(N):\n",
    "    import numpy as np\n",
    "    import matplotlib.pyplot as plt\n",
    "    import random\n",
    "    dice = [1,2,3,4,5,6]\n",
    "    chaos = [0,0,0,0,0,0]\n",
    "    for i in range(N):\n",
    "        #if random.choice(coin) == '앞면':\n",
    "        chaos[random.choice(dice)-1] += 1/N\n",
    "    return chaos \n",
    "\n",
    "dice_prob(10000)\n",
    "y_value = []\n",
    "x_name = []\n",
    "for N in range(1,7):\n",
    "    #print('동전을 10번 던져서 앞면이', N, '개 나올 확률은', coin_prob(N), '입니다')\n",
    "    y_value=dice_prob(N)\n",
    "    x_name.append(N)\n",
    "n_groups = len(x_name)  #12 n_groups 할당\n",
    "index = np.arange(n_groups)  #0~11 리스트화\n",
    "plt.bar(index, dice_prob(N), tick_label=x_name, align='center',\n",
    "        color='red')  #막대그래프 시각화 코드\n",
    "plt.xlabel('X')  #x축 라벨 이름\n",
    "plt.ylabel('P')  #y축 라벨 이름\n",
    "plt.title('rv X의 확률분포도')  #그래프 제목\n",
    "plt.xlim(-1, n_groups)  #x축 눈금\n",
    "plt.ylim(0, 0.3)  #y축 눈금\n",
    "plt.show()  #그래프를 보여주세요!"
   ]
  },
  {
   "cell_type": "code",
   "execution_count": 9,
   "metadata": {
    "ExecuteTime": {
     "end_time": "2020-06-03T02:37:37.500230Z",
     "start_time": "2020-06-03T02:37:37.479727Z"
    },
    "scrolled": true
   },
   "outputs": [
    {
     "data": {
      "text/plain": [
       "[0.16739999999999788,\n",
       " 0.16739999999999788,\n",
       " 0.17019999999999758,\n",
       " 0.16289999999999838,\n",
       " 0.16869999999999774,\n",
       " 0.16339999999999832]"
      ]
     },
     "execution_count": 9,
     "metadata": {},
     "output_type": "execute_result"
    }
   ],
   "source": [
    "def dice_prob(N):\n",
    "    import numpy as np\n",
    "    import matplotlib.pyplot as plt\n",
    "    import random\n",
    "    dice = [1,2,3,4,5,6]\n",
    "    chaos = [0,0,0,0,0,0]\n",
    "    for i in range(N):\n",
    "        #if random.choice(coin) == '앞면':\n",
    "        chaos[random.choice(dice)-1] += 1/N\n",
    "    return chaos \n",
    "coin_prob(10000)"
   ]
  },
  {
   "cell_type": "code",
   "execution_count": 21,
   "metadata": {
    "ExecuteTime": {
     "end_time": "2020-06-03T07:12:58.554879Z",
     "start_time": "2020-06-03T07:12:58.546883Z"
    }
   },
   "outputs": [
    {
     "data": {
      "text/plain": [
       "[5, 8, 9, 10, 20, 100]"
      ]
     },
     "execution_count": 21,
     "metadata": {},
     "output_type": "execute_result"
    }
   ],
   "source": [
    "test =[100,10,5,8,9,20]\n",
    "for j in range(len(test)-1):\n",
    "    for i in range(len(test)-1):\n",
    "        if test[i]>test[i+1]:\n",
    "            test[i],test[i+1] = test[i+1],test[i] \n",
    "test"
   ]
  },
  {
   "cell_type": "code",
   "execution_count": 14,
   "metadata": {
    "ExecuteTime": {
     "end_time": "2020-06-03T07:08:04.841301Z",
     "start_time": "2020-06-03T07:08:04.836303Z"
    },
    "scrolled": true
   },
   "outputs": [
    {
     "data": {
      "text/plain": [
       "[5, 10, 8, 9, 20]"
      ]
     },
     "execution_count": 14,
     "metadata": {},
     "output_type": "execute_result"
    }
   ],
   "source": [
    "test =[10,5,8,9,20]\n",
    "test[0],test[1] = test[1],test[0] \n",
    "test"
   ]
  },
  {
   "cell_type": "code",
   "execution_count": 22,
   "metadata": {
    "ExecuteTime": {
     "end_time": "2020-06-03T07:14:54.345223Z",
     "start_time": "2020-06-03T07:14:54.338227Z"
    }
   },
   "outputs": [
    {
     "data": {
      "text/plain": [
       "[5, 10, 8, 9, 20]"
      ]
     },
     "execution_count": 22,
     "metadata": {},
     "output_type": "execute_result"
    }
   ],
   "source": [
    "test =[10,5,8,9,20]\n",
    "if test[0] > test[1]:\n",
    "\ttest[0],test[1] = test[1],test[0] \n",
    "test"
   ]
  },
  {
   "cell_type": "code",
   "execution_count": 28,
   "metadata": {
    "ExecuteTime": {
     "end_time": "2020-06-03T07:27:05.241598Z",
     "start_time": "2020-06-03T07:27:05.229604Z"
    },
    "scrolled": true
   },
   "outputs": [
    {
     "name": "stdout",
     "output_type": "stream",
     "text": [
      "[4, 5, 3, 2, 1, 8, 7, 10] 0\n",
      "[4, 3, 5, 2, 1, 8, 7, 10] 1\n",
      "[4, 3, 2, 5, 1, 8, 7, 10] 2\n",
      "[4, 3, 2, 1, 5, 8, 7, 10] 3\n",
      "[3, 4, 2, 1, 5, 8, 7, 10] 0\n",
      "[3, 2, 4, 1, 5, 8, 7, 10] 1\n",
      "[3, 2, 1, 4, 5, 8, 7, 10] 2\n",
      "[2, 3, 1, 4, 5, 8, 7, 10] 0\n",
      "[2, 1, 3, 4, 5, 8, 7, 10] 1\n",
      "[1, 2, 3, 4, 5, 8, 7, 10] 0\n"
     ]
    },
    {
     "data": {
      "text/plain": [
       "[1, 2, 3, 4, 5, 8, 7, 10]"
      ]
     },
     "execution_count": 28,
     "metadata": {},
     "output_type": "execute_result"
    }
   ],
   "source": [
    "a = [5,4,3,2,1,8,7,10]\n",
    "\n",
    "for j in range(len(a)-1):\n",
    "    for i in range(len(a)-1):\n",
    "        if a[i]>a[i+1]:\n",
    "            a[i],a[i+1] = a[i+1],a[i] \n",
    "            c = i\n",
    "            print(a,i)\n",
    "        elif i>c:\n",
    "            break\n",
    "a"
   ]
  },
  {
   "cell_type": "code",
   "execution_count": 37,
   "metadata": {
    "ExecuteTime": {
     "end_time": "2020-06-03T07:45:41.490220Z",
     "start_time": "2020-06-03T07:45:41.481225Z"
    }
   },
   "outputs": [
    {
     "name": "stdout",
     "output_type": "stream",
     "text": [
      "[4, 5, 3, 2, 1, 8, 7, 10] 0\n",
      "[4, 3, 5, 2, 1, 8, 7, 10] 1\n",
      "[4, 3, 2, 5, 1, 8, 7, 10] 2\n",
      "[4, 3, 2, 1, 5, 8, 7, 10] 3\n",
      "[4, 3, 2, 1, 5, 8, 7, 10] 4\n",
      "[4, 3, 2, 1, 5, 7, 8, 10] 5\n",
      "[4, 3, 2, 1, 5, 7, 8, 10] 6\n",
      "[3, 4, 2, 1, 5, 7, 8, 10] 0\n",
      "[3, 2, 4, 1, 5, 7, 8, 10] 1\n",
      "[3, 2, 1, 4, 5, 7, 8, 10] 2\n",
      "[3, 2, 1, 4, 5, 7, 8, 10] 3\n",
      "[3, 2, 1, 4, 5, 7, 8, 10] 4\n",
      "[2, 3, 1, 4, 5, 7, 8, 10] 0\n",
      "[2, 1, 3, 4, 5, 7, 8, 10] 1\n",
      "[1, 2, 3, 4, 5, 7, 8, 10] 0\n",
      "[1, 2, 3, 4, 5, 7, 8, 10] 15\n"
     ]
    }
   ],
   "source": [
    "a = [5,4,3,2,1,8,7,10]\n",
    "c = len(a)-1\n",
    "cnt = 0\n",
    "for j in range(len(a)-1):\n",
    "    for i in range(c):\n",
    "        if a[i]>a[i+1]:\n",
    "            a[i],a[i+1] = a[i+1],a[i] \n",
    "            c = i\n",
    "        print(a,i)\n",
    "        cnt += 1\n",
    "#         elif i>c:\n",
    "#             break\n",
    "print(a,cnt)"
   ]
  },
  {
   "cell_type": "code",
   "execution_count": 43,
   "metadata": {
    "ExecuteTime": {
     "end_time": "2020-06-03T07:55:31.771052Z",
     "start_time": "2020-06-03T07:55:31.765055Z"
    },
    "scrolled": true
   },
   "outputs": [
    {
     "name": "stdout",
     "output_type": "stream",
     "text": [
      "[1, 2, 3, 4, 5, 7, 8, 10] 15\n"
     ]
    }
   ],
   "source": [
    "def bub(a):\n",
    "    #a = [5,4,3,2,1,8,7,10]\n",
    "    c = len(a)-1\n",
    "    cnt = 0\n",
    "    for j in range(len(a)-1):\n",
    "        for i in range(c):\n",
    "            if a[i]>a[i+1]:\n",
    "                a[i],a[i+1] = a[i+1],a[i] \n",
    "                c = i\n",
    "                #print(a,i)\n",
    "            cnt += 1\n",
    "    print(a,cnt)\n",
    "    \n",
    "a = [5,4,3,2,1,8,7,10]\n",
    "bub(a)"
   ]
  },
  {
   "cell_type": "code",
   "execution_count": 39,
   "metadata": {
    "ExecuteTime": {
     "end_time": "2020-06-03T07:46:31.535331Z",
     "start_time": "2020-06-03T07:46:31.529335Z"
    }
   },
   "outputs": [
    {
     "name": "stdout",
     "output_type": "stream",
     "text": [
      "[1, 2, 3, 4, 5, 7, 8, 10] 15\n"
     ]
    }
   ],
   "source": [
    "a = [5,4,3,2,1,8,7,10]\n",
    "c = len(a)-1\n",
    "cnt = 0\n",
    "for j in range(len(a)-1):\n",
    "    for i in range(c):\n",
    "        if a[i]>a[i+1]:\n",
    "            a[i],a[i+1] = a[i+1],a[i] \n",
    "            c = i\n",
    "            #print(a,i)\n",
    "        cnt += 1\n",
    "#         elif i>c:\n",
    "#             break\n",
    "print(a,cnt)"
   ]
  },
  {
   "cell_type": "code",
   "execution_count": 45,
   "metadata": {
    "ExecuteTime": {
     "end_time": "2020-06-03T09:32:41.846682Z",
     "start_time": "2020-06-03T09:32:41.834689Z"
    },
    "scrolled": true
   },
   "outputs": [
    {
     "name": "stdout",
     "output_type": "stream",
     "text": [
      "[[ 1.   2.5 -1.  -1.5]\n",
      " [ 0.   0.5  1.   3.5]\n",
      " [ 0.   1.   3.   1. ]]\n",
      "[[ 1.   2.5 -1.  -1.5]\n",
      " [ 0.   0.5  1.   3.5]\n",
      " [ 0.   1.   3.   1. ]]\n",
      "[[ 1.   2.5 -1.  -1.5]\n",
      " [ 0.   1.   2.   7. ]\n",
      " [ 0.   0.   1.  -6. ]]\n",
      "[[ 1.   2.5 -1.  -1.5]\n",
      " [ 0.   1.   2.   7. ]\n",
      " [ 0.   0.   1.  -6. ]]\n"
     ]
    }
   ],
   "source": [
    "import numpy as np\n",
    "\n",
    "a = np.array([[-2,-5,2,3],[1,3,0,2],[0,1,3,1]]).astype(float)\n",
    "#b = np.array([[-3],[4],[6]]).astype(float)\n",
    "\n",
    "#print(a)\n",
    "#print(b)\n",
    "\n",
    "for i in range(len(a)-1):\n",
    "    while a[i][i] == 0:\n",
    "        if a[i][i] == 0:\n",
    "            a.append(a[i])\n",
    "            del(a[i])\n",
    "        #b[i] = b[i]/a[i][i]\n",
    "    a[i] = a[i]/a[i][i]\n",
    "     \n",
    "    \n",
    "    for m in range(len(a)-1-i):\n",
    "        #b[i+1+m] = b[i+1+m] - b[i]*a[i+1+m][i]\n",
    "        a[i+1+m] = a[i+1+m] - a[i]*a[i+1+m][i]\n",
    "\n",
    "        print(a)\n",
    "        #print(b)\n",
    "a[len(a)-1] = a[len(a)-1]/a[len(a)-1][len(a)-1]\n",
    "#b[len(a)-1] = b[len(a)-1]/a[len(a)-1][len(a)-1]\n",
    "print(a)\n",
    "#print(b)\n",
    "\n",
    "\n",
    "# for j in range(len(a)-1,-1,-1):\n",
    "#     for n in range(j):\n",
    "#         b[j-1-n] = b[j-1-n] - b[j]*a[j-1-n][j]\n",
    "#         a[j-1-n] = a[j-1-n] - a[j]*a[j-1-n][j]\n",
    "\n",
    "#         print(a)\n",
    "#         print(b)\n"
   ]
  },
  {
   "cell_type": "code",
   "execution_count": 78,
   "metadata": {
    "ExecuteTime": {
     "end_time": "2020-06-03T10:11:00.514423Z",
     "start_time": "2020-06-03T10:11:00.502430Z"
    },
    "scrolled": true
   },
   "outputs": [
    {
     "name": "stdout",
     "output_type": "stream",
     "text": [
      "[[ 0.  2.  1.  1.]\n",
      " [ 2.  4. -2.  2.]\n",
      " [ 3.  5. -5.  1.]]\n",
      "[[ 2.  4. -2.  2.]\n",
      " [ 3.  5. -5.  1.]\n",
      " [ 0.  2.  1.  1.]]\n",
      "[[ 1.  2. -1.  1.]\n",
      " [ 0. -1. -2. -2.]\n",
      " [ 0.  2.  1.  1.]]\n",
      "[[ 1.  2. -1.  1.]\n",
      " [ 0. -1. -2. -2.]\n",
      " [ 0.  2.  1.  1.]]\n",
      "[[ 1.  2. -1.  1.]\n",
      " [ 0. -1. -2. -2.]\n",
      " [ 0.  2.  1.  1.]]\n",
      "[[ 1.  2. -1.  1.]\n",
      " [-0.  1.  2.  2.]\n",
      " [ 0.  0. -3. -3.]]\n",
      "[[ 1.  2. -1.  1.]\n",
      " [-0.  1.  2.  2.]\n",
      " [-0. -0.  1.  1.]]\n"
     ]
    }
   ],
   "source": [
    "import numpy as np\n",
    "\n",
    "a = np.array([[0,2,1,1],[2,4,-2,2],[3,5,-5,1]]).astype(float)\n",
    "#a = [[0,2,1,1],[2,4,-2,2],[3,5,-5,1]]\n",
    "#b = np.array([[-3],[4],[6]]).astype(float)\n",
    "\n",
    "#print(a)\n",
    "#print(b)\n",
    "for i in range(len(a)-1):\n",
    "    print(a)\n",
    "    while a[i][i] == 0:\n",
    "        if a[i][i] == 0:\n",
    "            a=np.vstack([a,a[i]])\n",
    "            a=np.delete(a,(i),axis=0)\n",
    "            print(a)\n",
    "        #b[i] = b[i]/a[i][i]\n",
    "    a[i] = a[i]/a[i][i]\n",
    "     \n",
    "    \n",
    "    for m in range(len(a)-1-i):\n",
    "        #b[i+1+m] = b[i+1+m] - b[i]*a[i+1+m][i]\n",
    "        a[i+1+m] = a[i+1+m] - a[i]*a[i+1+m][i]\n",
    "\n",
    "        print(a)\n",
    "        #print(b)\n",
    "a[len(a)-1] = a[len(a)-1]/a[len(a)-1][len(a)-1]\n",
    "#b[len(a)-1] = b[len(a)-1]/a[len(a)-1][len(a)-1]\n",
    "print(a)\n",
    "#print(b)\n",
    "\n",
    "\n",
    "# for j in range(len(a)-1,-1,-1):\n",
    "#     for n in range(j):\n",
    "#         b[j-1-n] = b[j-1-n] - b[j]*a[j-1-n][j]\n",
    "#         a[j-1-n] = a[j-1-n] - a[j]*a[j-1-n][j]\n",
    "\n",
    "#         print(a)\n",
    "#         print(b)\n"
   ]
  },
  {
   "cell_type": "code",
   "execution_count": 77,
   "metadata": {
    "ExecuteTime": {
     "end_time": "2020-06-03T10:10:51.996719Z",
     "start_time": "2020-06-03T10:10:51.988723Z"
    }
   },
   "outputs": [
    {
     "data": {
      "text/plain": [
       "array([[ 2.,  4., -2.,  2.],\n",
       "       [ 3.,  5., -5.,  1.],\n",
       "       [ 0.,  2.,  1.,  1.]])"
      ]
     },
     "execution_count": 77,
     "metadata": {},
     "output_type": "execute_result"
    }
   ],
   "source": [
    "import numpy as np\n",
    "\n",
    "a = np.array([[0,2,1,1],[2,4,-2,2],[3,5,-5,1]]).astype(float)\n",
    "\n",
    "a =np.vstack([a,a[0]])\n",
    "a =np.delete(a,(i),axis=0)\n",
    "a"
   ]
  }
 ],
 "metadata": {
  "kernelspec": {
   "display_name": "Python 3",
   "language": "python",
   "name": "python3"
  },
  "language_info": {
   "codemirror_mode": {
    "name": "ipython",
    "version": 3
   },
   "file_extension": ".py",
   "mimetype": "text/x-python",
   "name": "python",
   "nbconvert_exporter": "python",
   "pygments_lexer": "ipython3",
   "version": "3.7.6"
  },
  "varInspector": {
   "cols": {
    "lenName": 16,
    "lenType": 16,
    "lenVar": 40
   },
   "kernels_config": {
    "python": {
     "delete_cmd_postfix": "",
     "delete_cmd_prefix": "del ",
     "library": "var_list.py",
     "varRefreshCmd": "print(var_dic_list())"
    },
    "r": {
     "delete_cmd_postfix": ") ",
     "delete_cmd_prefix": "rm(",
     "library": "var_list.r",
     "varRefreshCmd": "cat(var_dic_list()) "
    }
   },
   "types_to_exclude": [
    "module",
    "function",
    "builtin_function_or_method",
    "instance",
    "_Feature"
   ],
   "window_display": false
  }
 },
 "nbformat": 4,
 "nbformat_minor": 4
}
