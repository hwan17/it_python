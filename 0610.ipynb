{
 "cells": [
  {
   "cell_type": "code",
   "execution_count": 16,
   "metadata": {
    "ExecuteTime": {
     "end_time": "2020-06-10T07:45:00.565124Z",
     "start_time": "2020-06-10T07:45:00.555131Z"
    },
    "scrolled": true
   },
   "outputs": [
    {
     "name": "stdout",
     "output_type": "stream",
     "text": [
      "['JEJU', 'PANGYO', 'SEOUL', 'NEWYORK', 'LA', 'SANFRANCISCO', 'SEOUL', 'ROME', 'PARIS', 'JEJU', 'NEWYORK', 'ROME']\n",
      "['JEJU']\n",
      "['JEJU', 'PANGYO']\n",
      "['JEJU', 'PANGYO', 'SEOUL']\n",
      "['JEJU', 'PANGYO', 'SEOUL', 'NEWYORK']\n",
      "['JEJU', 'PANGYO', 'SEOUL', 'NEWYORK', 'LA']\n",
      "['PANGYO', 'SEOUL', 'NEWYORK', 'LA', 'SANFRANCISCO']\n",
      "['PANGYO', 'NEWYORK', 'LA', 'SANFRANCISCO', 'SEOUL']\n",
      "['NEWYORK', 'LA', 'SANFRANCISCO', 'SEOUL', 'ROME']\n",
      "['LA', 'SANFRANCISCO', 'SEOUL', 'ROME', 'PARIS']\n",
      "['SANFRANCISCO', 'SEOUL', 'ROME', 'PARIS', 'JEJU']\n",
      "['SEOUL', 'ROME', 'PARIS', 'JEJU', 'NEWYORK']\n",
      "['SEOUL', 'PARIS', 'JEJU', 'NEWYORK', 'ROME']\n"
     ]
    },
    {
     "data": {
      "text/plain": [
       "52"
      ]
     },
     "execution_count": 16,
     "metadata": {},
     "output_type": "execute_result"
    }
   ],
   "source": [
    "test2 = ['Jeju', 'Pangyo', 'Seoul', 'NewYork', 'LA', 'SanFrancisco', 'Seoul', \n",
    "\n",
    "              'Rome', 'Paris', 'Jeju', 'NewYork', 'Rome']\n",
    "test = [i.upper() for i in test2]\n",
    "print(test)\n",
    "c_list = []\n",
    "c_size = 5\n",
    "time = 0\n",
    "for i in range(len(test)):\n",
    "    if test[i] in c_list:\n",
    "        c_list.append(c_list.pop(c_list.index(test[i])))\n",
    "        time += 1\n",
    "        print(c_list)\n",
    "    else:\n",
    "        c_list.append(test[i])\n",
    "        if len(c_list)>c_size:\n",
    "            del(c_list[0])\n",
    "        print(c_list)\n",
    "        time += 5\n",
    "time"
   ]
  },
  {
   "cell_type": "code",
   "execution_count": 20,
   "metadata": {
    "ExecuteTime": {
     "end_time": "2020-06-10T07:46:48.474166Z",
     "start_time": "2020-06-10T07:46:48.465171Z"
    },
    "scrolled": true
   },
   "outputs": [
    {
     "name": "stdout",
     "output_type": "stream",
     "text": [
      "['JEJU', 'JEJU', 'JEJU']\n",
      "['JEJU']\n",
      "['JEJU']\n",
      "['JEJU']\n"
     ]
    },
    {
     "data": {
      "text/plain": [
       "7"
      ]
     },
     "execution_count": 20,
     "metadata": {},
     "output_type": "execute_result"
    }
   ],
   "source": [
    "def c_process(test2, c_size):\n",
    "\n",
    "#test2 = ['Jeju', 'Pangyo', 'Seoul', 'NewYork', 'LA', 'SanFrancisco', 'Seoul',             'Rome', 'Paris', 'Jeju', 'NewYork', 'Rome']\n",
    "    test = [i.upper() for i in test2]\n",
    "    print(test)\n",
    "    c_list = []\n",
    "    #c_size = 5\n",
    "    time = 0\n",
    "    for i in range(len(test)):\n",
    "        if test[i] in c_list:\n",
    "            c_list.append(c_list.pop(c_list.index(test[i])))\n",
    "            time += 1\n",
    "            print(c_list)\n",
    "        else:\n",
    "            c_list.append(test[i])\n",
    "            if len(c_list)>c_size:\n",
    "                del(c_list[0])\n",
    "            print(c_list)\n",
    "            time += 5\n",
    "    return time\n",
    "\n",
    "c_process(['Jeju', 'Jeju', 'Jeju'],3)"
   ]
  },
  {
   "cell_type": "code",
   "execution_count": 22,
   "metadata": {
    "ExecuteTime": {
     "end_time": "2020-06-10T07:48:40.645029Z",
     "start_time": "2020-06-10T07:48:40.640032Z"
    }
   },
   "outputs": [
    {
     "data": {
      "text/plain": [
       "[None, None, None]"
      ]
     },
     "execution_count": 22,
     "metadata": {},
     "output_type": "execute_result"
    }
   ],
   "source": [
    "ca = [None for i in range(3)]\n",
    "ca\n",
    "\n"
   ]
  },
  {
   "cell_type": "code",
   "execution_count": 23,
   "metadata": {
    "ExecuteTime": {
     "end_time": "2020-06-10T07:49:14.438170Z",
     "start_time": "2020-06-10T07:49:14.432174Z"
    }
   },
   "outputs": [
    {
     "data": {
      "text/plain": [
       "[None, None, None, 'jeju']"
      ]
     },
     "execution_count": 23,
     "metadata": {},
     "output_type": "execute_result"
    }
   ],
   "source": [
    "ca.append('jeju')\n",
    "ca"
   ]
  },
  {
   "cell_type": "code",
   "execution_count": 24,
   "metadata": {
    "ExecuteTime": {
     "end_time": "2020-06-10T07:50:21.828642Z",
     "start_time": "2020-06-10T07:50:21.824645Z"
    },
    "scrolled": true
   },
   "outputs": [
    {
     "data": {
      "text/plain": [
       "[None, None, 'jeju']"
      ]
     },
     "execution_count": 24,
     "metadata": {},
     "output_type": "execute_result"
    }
   ],
   "source": [
    "del(ca[0])\n",
    "ca"
   ]
  },
  {
   "cell_type": "code",
   "execution_count": 25,
   "metadata": {
    "ExecuteTime": {
     "end_time": "2020-06-10T07:52:23.172859Z",
     "start_time": "2020-06-10T07:52:23.166864Z"
    },
    "scrolled": true
   },
   "outputs": [
    {
     "data": {
      "text/plain": [
       "[None, 'jeju', 'pangyo']"
      ]
     },
     "execution_count": 25,
     "metadata": {},
     "output_type": "execute_result"
    }
   ],
   "source": [
    "ca.append('pangyo')\n",
    "del(ca[0])\n",
    "ca"
   ]
  },
  {
   "cell_type": "code",
   "execution_count": 26,
   "metadata": {
    "ExecuteTime": {
     "end_time": "2020-06-10T07:54:17.676911Z",
     "start_time": "2020-06-10T07:54:17.670914Z"
    },
    "scrolled": true
   },
   "outputs": [
    {
     "data": {
      "text/plain": [
       "['jeju', 'pangyo', 'la']"
      ]
     },
     "execution_count": 26,
     "metadata": {},
     "output_type": "execute_result"
    }
   ],
   "source": [
    "ca.append('la')\n",
    "del(ca[0])\n",
    "ca"
   ]
  },
  {
   "cell_type": "code",
   "execution_count": 29,
   "metadata": {
    "ExecuteTime": {
     "end_time": "2020-06-10T07:56:35.826256Z",
     "start_time": "2020-06-10T07:56:35.820260Z"
    }
   },
   "outputs": [
    {
     "data": {
      "text/plain": [
       "['pangyo', 'la', 'jeju']"
      ]
     },
     "execution_count": 29,
     "metadata": {},
     "output_type": "execute_result"
    }
   ],
   "source": [
    "ca = ['jeju','pangyo','la']\n",
    "ca.append(ca.pop(ca.index('jeju')))\n",
    "ca"
   ]
  }
 ],
 "metadata": {
  "kernelspec": {
   "display_name": "Python 3",
   "language": "python",
   "name": "python3"
  },
  "language_info": {
   "codemirror_mode": {
    "name": "ipython",
    "version": 3
   },
   "file_extension": ".py",
   "mimetype": "text/x-python",
   "name": "python",
   "nbconvert_exporter": "python",
   "pygments_lexer": "ipython3",
   "version": "3.7.6"
  },
  "varInspector": {
   "cols": {
    "lenName": 16,
    "lenType": 16,
    "lenVar": 40
   },
   "kernels_config": {
    "python": {
     "delete_cmd_postfix": "",
     "delete_cmd_prefix": "del ",
     "library": "var_list.py",
     "varRefreshCmd": "print(var_dic_list())"
    },
    "r": {
     "delete_cmd_postfix": ") ",
     "delete_cmd_prefix": "rm(",
     "library": "var_list.r",
     "varRefreshCmd": "cat(var_dic_list()) "
    }
   },
   "types_to_exclude": [
    "module",
    "function",
    "builtin_function_or_method",
    "instance",
    "_Feature"
   ],
   "window_display": false
  }
 },
 "nbformat": 4,
 "nbformat_minor": 4
}
