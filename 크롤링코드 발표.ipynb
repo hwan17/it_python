{
 "cells": [
  {
   "cell_type": "code",
   "execution_count": 2,
   "metadata": {
    "ExecuteTime": {
     "end_time": "2020-07-20T06:11:39.559987Z",
     "start_time": "2020-07-20T06:11:38.282786Z"
    }
   },
   "outputs": [],
   "source": [
    "import urllib.request\n",
    "from bs4 import BeautifulSoup\n",
    "import pandas as pd\n",
    "#from urllib import parse\n",
    "\n",
    "\n",
    "def mg(month):\n",
    "    if month < 10:\n",
    "        month ='0'+str(month)\n",
    "    else:\n",
    "        month = str(month)\n",
    "    keyls = ['%BA%F1%B4%EB%B8%E9','%BE%F0%C5%C3%C6%AE','%BF%C2%B6%F3%C0%CE','%BF%F8%B0%DD','%B7%A3%BC%B1']\n",
    "    # 비대면 언택트 온라인 랜선 원격\n",
    "    svurl = []\n",
    "    for kwd in keyls:\n",
    "        for pn in range(1,1000000):\n",
    "            list_url = \"http://find.mk.co.kr/new/search.php?pageNum=\"+str(pn)+\\\n",
    "            \"&cat=&cat1=&media_eco=&pageSize=10&sub=all&dispFlag=OFF&page=news&s_kwd=\"\\\n",
    "            +kwd+\"&s_page=news&go_page=&ord=1&ord1=1&ord2=0&s_keyword=\"+kwd+\"&period=p_direct&s_i_keyword=\"\\\n",
    "            +kwd+\"&s_author=&y1=2020&m1=\"+month+\"&d1=01&y2=2020&m2=\"\\\n",
    "            +month+\"&d2=31&ord=1&area=ttbd\"\n",
    "            #print(list_url)\n",
    "            url = urllib.request.Request(list_url)\n",
    "            print(url)\n",
    "            try:\n",
    "                result = urllib.request.urlopen(url).read().decode(\"cp949\")\n",
    "                soup = BeautifulSoup(result,'html.parser')\n",
    "                result1 = soup.find_all('span',class_=\"class_tit\")\n",
    "                artn=result1[0].get_text()\n",
    "                n=artn.index('건')\n",
    "                tnum=artn[11:n].replace(',','')\n",
    "                en = int(int(tnum)/20)+1\n",
    "                if pn == en+1:\n",
    "                    break\n",
    "                print(artn)\n",
    "                result2 = soup.find_all('span',class_=\"art_tit\")\n",
    "                for j in result2:\n",
    "                    for k in j:\n",
    "                        svurl.append(k.get(\"href\"))\n",
    "            except:\n",
    "                pass\n",
    "    return svurl\n",
    "\n",
    "#-------\n",
    "\n",
    "def mg_scrl(month):\n",
    "    tmpmg = mg(month)\n",
    "    params1=[]\n",
    "\n",
    "    for ulst in list(set(tmpmg)):\n",
    "        url = urllib.request.Request(ulst)\n",
    "        result = urllib.request.urlopen(url).read()#.decode(\"cp949\")\n",
    "        soup = BeautifulSoup(result, \"html.parser\")\n",
    "        result1 = soup.find_all('div', class_='art_txt')\n",
    "        for i in result1:\n",
    "            params1.append(i.get_text(\" \",strip=True)+'\\n'+'\\n')\n",
    "    \n",
    "    param = pd.DataFrame(params1)\n",
    "    param.to_csv('d:\\\\data\\\\R_pj\\\\'+'acrl'+str(month)+'.csv', encoding='utf-8')"
   ]
  }
 ],
 "metadata": {
  "kernelspec": {
   "display_name": "Python 3",
   "language": "python",
   "name": "python3"
  },
  "language_info": {
   "codemirror_mode": {
    "name": "ipython",
    "version": 3
   },
   "file_extension": ".py",
   "mimetype": "text/x-python",
   "name": "python",
   "nbconvert_exporter": "python",
   "pygments_lexer": "ipython3",
   "version": "3.7.6"
  },
  "varInspector": {
   "cols": {
    "lenName": 16,
    "lenType": 16,
    "lenVar": 40
   },
   "kernels_config": {
    "python": {
     "delete_cmd_postfix": "",
     "delete_cmd_prefix": "del ",
     "library": "var_list.py",
     "varRefreshCmd": "print(var_dic_list())"
    },
    "r": {
     "delete_cmd_postfix": ") ",
     "delete_cmd_prefix": "rm(",
     "library": "var_list.r",
     "varRefreshCmd": "cat(var_dic_list()) "
    }
   },
   "types_to_exclude": [
    "module",
    "function",
    "builtin_function_or_method",
    "instance",
    "_Feature"
   ],
   "window_display": false
  }
 },
 "nbformat": 4,
 "nbformat_minor": 4
}
