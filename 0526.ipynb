{
 "cells": [
  {
   "cell_type": "code",
   "execution_count": 4,
   "metadata": {
    "ExecuteTime": {
     "end_time": "2020-05-26T08:24:57.937858Z",
     "start_time": "2020-05-26T08:24:57.725989Z"
    }
   },
   "outputs": [
    {
     "ename": "NameError",
     "evalue": "name 'age' is not defined",
     "output_type": "error",
     "traceback": [
      "\u001b[1;31m---------------------------------------------------------------------------\u001b[0m",
      "\u001b[1;31mNameError\u001b[0m                                 Traceback (most recent call last)",
      "\u001b[1;32m<ipython-input-4-f3cbbd0d3ccf>\u001b[0m in \u001b[0;36m<module>\u001b[1;34m\u001b[0m\n\u001b[0;32m     12\u001b[0m \u001b[0mplt\u001b[0m\u001b[1;33m.\u001b[0m\u001b[0mxticks\u001b[0m\u001b[1;33m(\u001b[0m\u001b[0mbins\u001b[0m\u001b[1;33m,\u001b[0m \u001b[0mfontsize\u001b[0m \u001b[1;33m=\u001b[0m \u001b[1;36m10\u001b[0m\u001b[1;33m)\u001b[0m \u001b[1;31m# x축 숫자의 글씨 크기\u001b[0m\u001b[1;33m\u001b[0m\u001b[1;33m\u001b[0m\u001b[0m\n\u001b[0;32m     13\u001b[0m \u001b[0mplt\u001b[0m\u001b[1;33m.\u001b[0m\u001b[0mgrid\u001b[0m\u001b[1;33m(\u001b[0m\u001b[1;33m)\u001b[0m \u001b[1;31m#격자 모양이 생김\u001b[0m\u001b[1;33m\u001b[0m\u001b[1;33m\u001b[0m\u001b[0m\n\u001b[1;32m---> 14\u001b[1;33m \u001b[0mplt\u001b[0m\u001b[1;33m.\u001b[0m\u001b[0mhist\u001b[0m\u001b[1;33m(\u001b[0m \u001b[0mage\u001b[0m\u001b[1;33m,\u001b[0m \u001b[0mbins\u001b[0m\u001b[1;33m,\u001b[0m \u001b[0mrwidth\u001b[0m \u001b[1;33m=\u001b[0m \u001b[1;36m0.8\u001b[0m\u001b[1;33m,\u001b[0m \u001b[0malpha\u001b[0m\u001b[1;33m=\u001b[0m\u001b[1;36m0.7\u001b[0m\u001b[1;33m,\u001b[0m \u001b[0mcolor\u001b[0m \u001b[1;33m=\u001b[0m \u001b[1;34m'red'\u001b[0m\u001b[1;33m)\u001b[0m\u001b[1;33m\u001b[0m\u001b[1;33m\u001b[0m\u001b[0m\n\u001b[0m\u001b[0;32m     15\u001b[0m \u001b[1;31m# rwidth는 히스토 그래프의 넓이, alpha 색의 흐린정도\u001b[0m\u001b[1;33m\u001b[0m\u001b[1;33m\u001b[0m\u001b[1;33m\u001b[0m\u001b[0m\n\u001b[0;32m     16\u001b[0m \u001b[1;31m#print(hist)\u001b[0m\u001b[1;33m\u001b[0m\u001b[1;33m\u001b[0m\u001b[1;33m\u001b[0m\u001b[0m\n",
      "\u001b[1;31mNameError\u001b[0m: name 'age' is not defined"
     ]
    },
    {
     "data": {
      "image/png": "[encoded data removed]",
      "text/plain": [
       "<Figure size 432x288 with 1 Axes>"
      ]
     },
     "metadata": {
      "needs_background": "light"
     },
     "output_type": "display_data"
    }
   ],
   "source": [
    "#from my_loc import oracle as oc\n",
    "import numpy as np\n",
    "import matplotlib.pyplot as plt\n",
    "#age = []\n",
    "#emp11 = oc.connect('emp11')\n",
    "#for i in emp11['AGE']:\n",
    "#    age.append(i)\n",
    "height = np.random.randn(100000) * 30 +148.5 # 초등학생 키 10만개\n",
    "bins =  np.arange(135, 160, 1) # 계급의 크기를 나타내는 가로의 길이 설정\n",
    "#print(bins)#[142 144 146 148 150 152 154 156 158 160]\n",
    "hist, bins = np.histogram(height, bins)\n",
    "plt.xticks(bins, fontsize = 10) # x축 숫자의 글씨 크기\n",
    "plt.grid() #격자 모양이 생김\n",
    "plt.hist( age, bins, rwidth = 0.8, alpha=0.7, color = 'red')\n",
    "# rwidth는 히스토 그래프의 넓이, alpha 색의 흐린정도\n",
    "#print(hist)\n",
    "#print(bins)"
   ]
  },
  {
   "cell_type": "code",
   "execution_count": 7,
   "metadata": {
    "ExecuteTime": {
     "end_time": "2020-05-26T15:06:10.034526Z",
     "start_time": "2020-05-26T09:19:21.926863Z"
    },
    "scrolled": true
   },
   "outputs": [
    {
     "data": {
      "text/plain": [
       "(array([0., 0., 2., ..., 0., 0., 0.]),\n",
       " array([140.    , 140.0001, 140.0002, ..., 159.9997, 159.9998, 159.9999]),\n",
       " <a list of 199999 Patch objects>)"
      ]
     },
     "execution_count": 7,
     "metadata": {},
     "output_type": "execute_result"
    },
    {
     "data": {
      "image/png": "[encoded data removed]",
      "text/plain": [
       "<Figure size 432x288 with 1 Axes>"
      ]
     },
     "metadata": {
      "needs_background": "light"
     },
     "output_type": "display_data"
    }
   ],
   "source": [
    "import numpy as np\n",
    "import matplotlib.pyplot as plt\n",
    "from scipy.stats import norm\n",
    "\n",
    "a = []\n",
    "height = np.random.randn(1000000)*30+ 148.5\n",
    "for i in range(1000000):    \n",
    "    a.append(np.random.choice(height,100).mean())\n",
    "#a\n",
    "bins =  np.arange(140, 160, 0.0001) \n",
    "hist, bins = np.histogram(a, bins)\n",
    "plt.xticks(bins, fontsize = 10) \n",
    "#plt.grid() \n",
    "plt.hist( a, bins, rwidth = 0.8, alpha=0.7, color = 'red')\n",
    "\n",
    "#print(np.mean(a))\n",
    "#print(np.std(a))\n",
    "\n",
    "#x= np.arange(140,160,0.001)\n",
    "#y = norm.pdf(x,np.mean(a),np.std(a)) \n",
    "#plt.plot(x, y, color=\"red\") "
   ]
  },
  {
   "cell_type": "code",
   "execution_count": null,
   "metadata": {
    "ExecuteTime": {
     "end_time": "2020-05-26T08:04:56.779817Z",
     "start_time": "2020-05-26T08:04:56.518978Z"
    }
   },
   "outputs": [],
   "source": [
    "from scipy.stats import norm\n",
    "import numpy as np\n",
    "import matplotlib.pyplot as plt\n",
    "import math\n",
    "\n",
    "x= np.arange(140,160,1)\n",
    "y = norm.pdf(x,148.5,30/math.sqrt(100)) \n",
    "plt.plot(x, y, color=\"red\") "
   ]
  },
  {
   "cell_type": "code",
   "execution_count": null,
   "metadata": {
    "ExecuteTime": {
     "end_time": "2020-05-26T08:15:32.508042Z",
     "start_time": "2020-05-26T08:14:38.507398Z"
    }
   },
   "outputs": [],
   "source": [
    "\n",
    "import numpy as np\n",
    "from scipy.stats import norm\n",
    "import matplotlib.pyplot as plt\n",
    "\n",
    "\n",
    "\n",
    "avg=148.5\n",
    "std=30\n",
    "N=1000000\n",
    "height=np.random.randn(N)*std+avg\n",
    "sample_mean=[np.random.choice(height,100).mean() for i in range(N)]\n",
    "\n",
    "\n",
    "\n",
    "x=np.arange(140, 160, 0.001)\n",
    "y=norm.pdf(x,np.mean(sample_mean), np.std(sample_mean))\n",
    "print(np.mean(sample_mean),np.std(sample_std))\n",
    "\n",
    "\n",
    "plt.plot(x,y,color =\"red\")\n",
    "plt.fill_between(x, y, interpolate=True, color='pink', alpha=0.4)"
   ]
  },
  {
   "cell_type": "code",
   "execution_count": null,
   "metadata": {
    "ExecuteTime": {
     "end_time": "2020-05-26T08:03:45.878396Z",
     "start_time": "2020-05-26T08:03:45.711499Z"
    }
   },
   "outputs": [],
   "source": [
    "from scipy.stats import norm\n",
    "import numpy as np\n",
    "import matplotlib.pyplot as plt\n",
    "import math\n",
    "\n",
    "x= np.arange(140,160,1)\n",
    "y = norm.pdf(x,148.5,30/math.sqrt(100)) \n",
    "plt.plot(x, y, color=\"red\") \n"
   ]
  },
  {
   "cell_type": "code",
   "execution_count": null,
   "metadata": {},
   "outputs": [],
   "source": [
    "import numpy as np\n",
    "import matplotlib.pyplot as plt\n",
    "\n",
    "a = []\n",
    "height = np.random.randn(1000000)*30+ 148.5\n",
    "for i in range(1000000):    \n",
    "    a.append(np.random.choice(height,100).mean())\n",
    "a\n"
   ]
  },
  {
   "cell_type": "code",
   "execution_count": null,
   "metadata": {
    "scrolled": true
   },
   "outputs": [],
   "source": [
    "listdata = [2,2,1,3,8,1,4,3,9,2,20]\n",
    "result = sum(listdata)\n",
    "print(result)"
   ]
  },
  {
   "cell_type": "code",
   "execution_count": null,
   "metadata": {},
   "outputs": [],
   "source": [
    "a = [2,1,5,4,6,7,8,10,3]\n",
    "\n",
    "sum(range(1,11))-sum(a)"
   ]
  },
  {
   "cell_type": "code",
   "execution_count": null,
   "metadata": {
    "scrolled": true
   },
   "outputs": [],
   "source": [
    "listdata1 = [True, True, True]\n",
    "listdata2 = [True, False, True]\n",
    "listdata3 = [0,0,0]\n",
    "print(all(listdata1))\n",
    "print(all(listdata2))\n",
    "print(all(listdata3))\n",
    "print(any(listdata1))\n",
    "print(any(listdata2))\n",
    "print(any(listdata3))\n"
   ]
  },
  {
   "cell_type": "code",
   "execution_count": null,
   "metadata": {},
   "outputs": [],
   "source": [
    "x = [[1,2],[-3,-4]]\n",
    "\n",
    "for i in range(len(x)):\n",
    "    for j in range(len(x[0])):\n",
    "        if x[i][j] < 0:\n",
    "            x[i][j] = 0\n",
    "print(x)"
   ]
  },
  {
   "cell_type": "code",
   "execution_count": null,
   "metadata": {},
   "outputs": [],
   "source": [
    "a = [1,3,4]\n",
    "a.replace()"
   ]
  },
  {
   "cell_type": "code",
   "execution_count": null,
   "metadata": {
    "scrolled": true
   },
   "outputs": [],
   "source": [
    "x = [[1,2],[-3,-4]]\n",
    "\n",
    "for i in x:\n",
    "    for j in i:\n",
    "        if j < 0:\n",
    "            print(type(j))\n",
    "            j = 0\n",
    "            print(j)\n",
    "print(x)"
   ]
  },
  {
   "cell_type": "code",
   "execution_count": null,
   "metadata": {
    "scrolled": true
   },
   "outputs": [],
   "source": [
    "import numpy as np\n",
    "x = [[1,2],[-3,-4]]\n",
    "x1 = np.array(x)\n",
    "mask = (x1<=0)\n",
    "print(mask)\n",
    "x1[mask] = 0\n",
    "print(x1)"
   ]
  },
  {
   "cell_type": "code",
   "execution_count": null,
   "metadata": {
    "scrolled": true
   },
   "outputs": [],
   "source": [
    "import numpy as np\n",
    "x = [[3,1,-4],[20,-2,3],[6,-7,10]]\n",
    "x1 = np.array(x)\n",
    "mask = (x1>=0)\n",
    "#print(mask)\n",
    "x1[mask] = 0\n",
    "print(x1)"
   ]
  },
  {
   "cell_type": "code",
   "execution_count": null,
   "metadata": {
    "scrolled": true
   },
   "outputs": [],
   "source": [
    "sol_eng = ['sun','mercury','venus','earth','mars']\n",
    "sol_kor = ['태양','수성','금성','지구','화성']\n",
    "\n",
    "result = dict(zip(sol_kor,sol_eng))\n",
    "result"
   ]
  },
  {
   "cell_type": "code",
   "execution_count": null,
   "metadata": {},
   "outputs": [],
   "source": [
    "sol_eng = ['sun','mercury','venus','earth','mars']\n",
    "sol_kor = ['태양','수성','금성','지구','화성']\n",
    "\n",
    "sol ={}\n",
    "for i,kor in enumerate(sol_kor):\n",
    "    sol[kor] = sol_eng[i]\n",
    "print(sol)"
   ]
  },
  {
   "cell_type": "code",
   "execution_count": null,
   "metadata": {},
   "outputs": [],
   "source": [
    "def add(x,y):\n",
    "    return (x+y)\n",
    "\n",
    "for i, j in zip(range(0,11), range(0,11)):\n",
    "    print(i,'+',j,'=',add(i,j))"
   ]
  },
  {
   "cell_type": "code",
   "execution_count": null,
   "metadata": {},
   "outputs": [],
   "source": [
    "sol_eng = ['sun','mercury','venus','earth','mars']\n",
    "sol_kor = ['태양','수성','금성','지구','화성']\n",
    "\n",
    "sol = dict(zip(sol_kor,sol_eng))\n",
    "\n",
    "sol['태양'] = 'aaaa'\n",
    "\n",
    "sol"
   ]
  },
  {
   "cell_type": "code",
   "execution_count": null,
   "metadata": {
    "scrolled": true
   },
   "outputs": [],
   "source": [
    "dictt = {'소녀시대':['다시만난세계','GEE'],'BTS':['DNA','Fire']}\n",
    "dictt"
   ]
  },
  {
   "cell_type": "code",
   "execution_count": null,
   "metadata": {
    "scrolled": true
   },
   "outputs": [],
   "source": [
    "dictt['BTS'][1] = '피땀눈물'\n",
    "dictt"
   ]
  },
  {
   "cell_type": "code",
   "execution_count": null,
   "metadata": {},
   "outputs": [],
   "source": [
    "#dictt['BTS'][dictt['BTS'].index('Fire')] = '피땀눈물'\n",
    "dictt"
   ]
  },
  {
   "cell_type": "code",
   "execution_count": null,
   "metadata": {
    "scrolled": true
   },
   "outputs": [],
   "source": [
    "del sol['태양']\n",
    "sol"
   ]
  },
  {
   "cell_type": "code",
   "execution_count": null,
   "metadata": {},
   "outputs": [],
   "source": [
    "del dictt['소녀시대'][dictt['소녀시대'].index('다시만난세계')]; dictt"
   ]
  },
  {
   "cell_type": "code",
   "execution_count": null,
   "metadata": {},
   "outputs": [],
   "source": [
    "dictt = {'소녀시대': ['다시만난세계', 'GEE'], 'BTS': ['DNA', 'Fire']}\n",
    "dictt.clear()\n",
    "print(dictt)\n",
    "del dictt\n",
    "print(dictt)"
   ]
  },
  {
   "cell_type": "code",
   "execution_count": null,
   "metadata": {
    "scrolled": true
   },
   "outputs": [],
   "source": [
    "dictt = {'소녀시대':['다시만난세계','GEE'],'BTS':['DNA','Fire']}\n",
    "for i in dictt.keys():\n",
    "    print(i, end = ',')"
   ]
  },
  {
   "cell_type": "code",
   "execution_count": null,
   "metadata": {
    "scrolled": true
   },
   "outputs": [],
   "source": [
    "dictt = {'소녀시대':['다시만난세계','GEE'],'BTS':['DNA','Fire']}\n",
    "for i in dictt.values():\n",
    "    print(i)"
   ]
  },
  {
   "cell_type": "code",
   "execution_count": null,
   "metadata": {},
   "outputs": [],
   "source": [
    "dictt = {'소녀시대':['다시만난세계','GEE'],'BTS':['DNA','Fire']}\n",
    "a = list(dictt.values())\n",
    "print(a)"
   ]
  },
  {
   "cell_type": "code",
   "execution_count": null,
   "metadata": {
    "scrolled": true
   },
   "outputs": [],
   "source": [
    "from random import shuffle\n",
    "dictt = {'소녀시대':['다시만난세계','GEE'],'BTS':['DNA','Fire']}\n",
    "v = []\n",
    "for i in dictt.values():\n",
    "    v += i\n",
    "bond = ','\n",
    "v2 = bond.join(v)\n",
    "print(v2)"
   ]
  },
  {
   "cell_type": "code",
   "execution_count": null,
   "metadata": {},
   "outputs": [],
   "source": [
    "from random import shuffle\n",
    "dictt = {'소녀시대':['다시만난세계','GEE'],'BTS':['DNA','Fire']}\n",
    "a = list(dictt.values())\n",
    "print(a)\n",
    "shuffle(a)\n",
    "for i in a:\n",
    "    for j in i:\n",
    "        print(j, end=',')"
   ]
  },
  {
   "cell_type": "code",
   "execution_count": null,
   "metadata": {
    "ExecuteTime": {
     "end_time": "2020-05-26T06:32:26.215260Z",
     "start_time": "2020-05-26T06:32:26.208265Z"
    },
    "scrolled": true
   },
   "outputs": [],
   "source": [
    "from random import shuffle\n",
    "dictt = {'소녀시대':['다시만난세계','GEE'],'BTS':['DNA','Fire']}\n",
    "song = list(dictt.values())\n",
    "shuffle(song)\n",
    "print(song)\n",
    "b =[]\n",
    "for i in range(len(song)):\n",
    "    for j in dictt.values():\n",
    "        b.append(j[i])\n",
    "        #print(j, end=',')\n",
    "print(','.join(b))"
   ]
  },
  {
   "cell_type": "code",
   "execution_count": null,
   "metadata": {
    "scrolled": true
   },
   "outputs": [],
   "source": [
    "from random import shuffle\n",
    "dictt = {'소녀시대':['다시만난세계','GEE','s'],'BTS':['DNA','Fire','f']}\n",
    "song = list(dictt.values())\n",
    "shuffle(song)\n",
    "for k in song:\n",
    "    shuffle(k)\n",
    "#print(song)\n",
    "b =[]\n",
    "for i in range(len(song)):\n",
    "    for j in range(len(song[i])):\n",
    "        b.append(song[j][i])\n",
    "        #print(j, end=',')\n",
    "print(','.join(b))"
   ]
  },
  {
   "cell_type": "code",
   "execution_count": null,
   "metadata": {
    "ExecuteTime": {
     "end_time": "2020-05-26T06:32:35.827262Z",
     "start_time": "2020-05-26T06:32:35.823263Z"
    },
    "scrolled": true
   },
   "outputs": [],
   "source": [
    "print(dictt.items())\n",
    "print(dictt.keys())\n",
    "print(dictt.values())"
   ]
  },
  {
   "cell_type": "code",
   "execution_count": null,
   "metadata": {
    "scrolled": true
   },
   "outputs": [],
   "source": [
    "d = {}\n",
    "d['a'] = ['k']\n",
    "d['a'] += ['h']\n",
    "print(d)"
   ]
  },
  {
   "cell_type": "code",
   "execution_count": null,
   "metadata": {},
   "outputs": [],
   "source": [
    "dictt2 = {'소녀시대':['다시만난세계','GEE','s'],'BTS':['DNA','Fire','f'],'임창정':['미련','소주한잔','날닮은너']}\n",
    "print(dictt2.keys())\n",
    "print(sorted(dictt2.keys(), reverse =True))"
   ]
  },
  {
   "cell_type": "code",
   "execution_count": null,
   "metadata": {
    "scrolled": true
   },
   "outputs": [],
   "source": [
    "print(ord('A'))"
   ]
  },
  {
   "cell_type": "code",
   "execution_count": null,
   "metadata": {},
   "outputs": [],
   "source": [
    "import string\n",
    "list_b = [i for i in range(65,91) ]\n",
    "for k in list_b:\n",
    "    print(k,'->', chr(k))\n",
    "#print(list_b)\n"
   ]
  },
  {
   "cell_type": "code",
   "execution_count": null,
   "metadata": {
    "scrolled": true
   },
   "outputs": [],
   "source": [
    "a = '2+3'\n",
    "print(a) # '2+3'\n",
    "print(eval(a) ) #5"
   ]
  },
  {
   "cell_type": "code",
   "execution_count": null,
   "metadata": {
    "scrolled": true
   },
   "outputs": [],
   "source": [
    "for i in range(1,10):\n",
    "    print(('2 * '+str(i)),'=',eval('2 * '+str(i)))"
   ]
  },
  {
   "cell_type": "code",
   "execution_count": null,
   "metadata": {
    "scrolled": true
   },
   "outputs": [],
   "source": [
    "for i in range(1,10):\n",
    "    b = '2*%d'%i\n",
    "    print(b,' =',eval(b))"
   ]
  },
  {
   "cell_type": "code",
   "execution_count": null,
   "metadata": {},
   "outputs": [],
   "source": [
    "for j in range(2,10):\n",
    "    for i in range(1,10):\n",
    "        b = '%d * %d'%(j,i)\n",
    "        print(b,'=',eval(b))"
   ]
  },
  {
   "cell_type": "code",
   "execution_count": null,
   "metadata": {
    "scrolled": true
   },
   "outputs": [],
   "source": [
    "a = [1,2,3,4,5]\n",
    "gob = lambda x : x*x\n",
    "print([gob(i) for i in a])"
   ]
  },
  {
   "cell_type": "code",
   "execution_count": null,
   "metadata": {
    "ExecuteTime": {
     "end_time": "2020-05-26T06:41:14.387384Z",
     "start_time": "2020-05-26T06:41:14.382387Z"
    }
   },
   "outputs": [],
   "source": [
    "a= [1,2,3,4,5]\n",
    "gob = lambda x : x**3\n",
    "print([gob(i) for i in a])"
   ]
  },
  {
   "cell_type": "code",
   "execution_count": null,
   "metadata": {},
   "outputs": [],
   "source": [
    "def gob(x):\n",
    "    return x*x\n",
    "\n",
    "a = [1,2,3,4,5]\n"
   ]
  },
  {
   "cell_type": "code",
   "execution_count": null,
   "metadata": {
    "ExecuteTime": {
     "end_time": "2020-05-26T06:56:10.738970Z",
     "start_time": "2020-05-26T06:56:10.732973Z"
    }
   },
   "outputs": [],
   "source": [
    "def monte(x):\n",
    "\n",
    "    import random\n",
    "\n",
    "    import math\n",
    "\n",
    "    cnt = 0\n",
    "\n",
    "    for i in range(x):\n",
    "\n",
    "        if random.uniform(-1, 1)**2 + random.uniform(-1, 1)**2 <= 1:\n",
    "\n",
    "            cnt += 1\n",
    "\n",
    "    return (cnt * 4 / x)"
   ]
  },
  {
   "cell_type": "code",
   "execution_count": null,
   "metadata": {
    "ExecuteTime": {
     "end_time": "2020-05-26T06:51:32.853951Z",
     "start_time": "2020-05-26T06:51:32.838959Z"
    }
   },
   "outputs": [],
   "source": [
    "monte(10000)"
   ]
  },
  {
   "cell_type": "code",
   "execution_count": null,
   "metadata": {
    "ExecuteTime": {
     "end_time": "2020-05-26T06:56:13.980092Z",
     "start_time": "2020-05-26T06:56:12.740856Z"
    }
   },
   "outputs": [],
   "source": [
    "pi_num = [ 100,1000,10000,100000,1000000]\n",
    "r = map(monte, pi_num)\n",
    "list(r)"
   ]
  },
  {
   "cell_type": "code",
   "execution_count": null,
   "metadata": {
    "ExecuteTime": {
     "end_time": "2020-05-26T07:06:40.293322Z",
     "start_time": "2020-05-26T07:06:40.285327Z"
    }
   },
   "outputs": [],
   "source": [
    "f = open('c:\\\\data\\\\stream.txt','r')\n",
    "data = f.read()\n",
    "print(data)\n",
    "f.close"
   ]
  },
  {
   "cell_type": "code",
   "execution_count": null,
   "metadata": {},
   "outputs": [],
   "source": []
  },
  {
   "cell_type": "code",
   "execution_count": null,
   "metadata": {
    "ExecuteTime": {
     "end_time": "2020-05-26T07:14:16.253019Z",
     "start_time": "2020-05-26T07:14:16.245024Z"
    },
    "scrolled": true
   },
   "outputs": [],
   "source": [
    "f = open('c:\\\\data\\\\stream.txt','r')\n",
    "data = f.readline()\n",
    "while data :\n",
    "    print(data, end='')\n",
    "    data = f.readline()\n",
    "f.close\n"
   ]
  },
  {
   "cell_type": "code",
   "execution_count": null,
   "metadata": {
    "ExecuteTime": {
     "end_time": "2020-05-26T07:17:10.945338Z",
     "start_time": "2020-05-26T07:17:10.939342Z"
    }
   },
   "outputs": [],
   "source": [
    "f = open('c:\\\\data\\\\stream.txt','r')\n",
    "data = f.readline()\n",
    "print(data)\n",
    "data = f.readline()\n",
    "print(data)"
   ]
  },
  {
   "cell_type": "code",
   "execution_count": null,
   "metadata": {
    "ExecuteTime": {
     "end_time": "2020-05-26T07:20:57.522794Z",
     "start_time": "2020-05-26T07:20:55.354177Z"
    }
   },
   "outputs": [],
   "source": [
    "text = input('내용 입력')\n",
    "f = open('c:\\\\data\\\\mydata.txt','w')\n",
    "f.write(text)\n",
    "f.close()"
   ]
  }
 ],
 "metadata": {
  "kernelspec": {
   "display_name": "Python 3",
   "language": "python",
   "name": "python3"
  },
  "language_info": {
   "codemirror_mode": {
    "name": "ipython",
    "version": 3
   },
   "file_extension": ".py",
   "mimetype": "text/x-python",
   "name": "python",
   "nbconvert_exporter": "python",
   "pygments_lexer": "ipython3",
   "version": "3.7.6"
  },
  "varInspector": {
   "cols": {
    "lenName": 16,
    "lenType": 16,
    "lenVar": 40
   },
   "kernels_config": {
    "python": {
     "delete_cmd_postfix": "",
     "delete_cmd_prefix": "del ",
     "library": "var_list.py",
     "varRefreshCmd": "print(var_dic_list())"
    },
    "r": {
     "delete_cmd_postfix": ") ",
     "delete_cmd_prefix": "rm(",
     "library": "var_list.r",
     "varRefreshCmd": "cat(var_dic_list()) "
    }
   },
   "oldHeight": 596,
   "position": {
    "height": "40px",
    "left": "586px",
    "right": "20px",
    "top": "120px",
    "width": "354px"
   },
   "types_to_exclude": [
    "module",
    "function",
    "builtin_function_or_method",
    "instance",
    "_Feature"
   ],
   "varInspector_section_display": "none",
   "window_display": false
  }
 },
 "nbformat": 4,
 "nbformat_minor": 4
}
