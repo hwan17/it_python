{
 "cells": [
  {
   "cell_type": "code",
   "execution_count": 5,
   "metadata": {
    "ExecuteTime": {
     "end_time": "2020-06-11T07:06:17.650987Z",
     "start_time": "2020-06-11T07:06:17.644990Z"
    }
   },
   "outputs": [
    {
     "name": "stdout",
     "output_type": "stream",
     "text": [
      "FR\n",
      "RA\n",
      "AN\n",
      "NC\n",
      "CE\n",
      "fr\n",
      "re\n",
      "en\n",
      "nc\n",
      "ch\n"
     ]
    }
   ],
   "source": [
    "str1 = 'FRANCE'\n",
    "str2 = 'french'\n",
    "nn = []\n",
    "uu = []\n",
    "start = 0\n",
    "for i in range(len(str1)-1):\n",
    "    #print(str1[i:i+2])\n",
    "    for j in range(len(str2)-1):\n",
    "        #print(str2[j:j+2])\n",
    "        \n",
    "        if str1[i:i+2] == str2[j:j+2]:\n",
    "            nn.append(str1[i:i+2])\n",
    "            start+=1\n",
    "            \n",
    "            #break\n"
   ]
  },
  {
   "cell_type": "code",
   "execution_count": 68,
   "metadata": {
    "ExecuteTime": {
     "end_time": "2020-06-11T07:55:56.524486Z",
     "start_time": "2020-06-11T07:55:56.510495Z"
    },
    "scrolled": true
   },
   "outputs": [
    {
     "data": {
      "text/plain": [
       "16384"
      ]
     },
     "execution_count": 68,
     "metadata": {},
     "output_type": "execute_result"
    }
   ],
   "source": [
    "str1 = 'FRANCE'\n",
    "str2 = 'french'\n",
    "def check2(str1,str2):\n",
    "    nn = []\n",
    "    uu = []\n",
    "    str11 = [str1[i:i+2].lower() for i in range(len(str1)-1) if str1[i:i+2].lower().isalpha() == True]\n",
    "    str22 = [str2[j:j+2].lower() for j in range(len(str2)-1) if str2[j:j+2].lower().isalpha() == True]\n",
    "    start = 0\n",
    "#     print(str11)\n",
    "#     print(str22)\n",
    "    for i in range(start, len(str11)):\n",
    "        for j in range(start, len(str22)):\n",
    "            #print(str11[i],str22[j])\n",
    "            if str11[i]==str22[j]:\n",
    "                #print(str11[i],str22[j])\n",
    "                nn.append(str11[i])\n",
    "                str11.insert(0,str11.pop(i))\n",
    "                str22.insert(0,str22.pop(j))\n",
    "                start+=1\n",
    "                break\n",
    "\n",
    "    uu =str11[start:]+str22[start:]+nn\n",
    "\n",
    "    if len(str11)==0 and len(str22) == 0:\n",
    "            return 65536\n",
    "    else:\n",
    "        return int(len(nn)/len(uu)*65536)\n",
    "# print(str11)\n",
    "# print(str22)\n",
    "# print(uu)\n",
    "\n",
    "# print(nn)\n",
    "\n",
    "check2(str1,str2)"
   ]
  },
  {
   "cell_type": "code",
   "execution_count": 57,
   "metadata": {
    "ExecuteTime": {
     "end_time": "2020-06-11T07:51:54.306483Z",
     "start_time": "2020-06-11T07:51:54.296488Z"
    },
    "scrolled": true
   },
   "outputs": [
    {
     "data": {
      "text/plain": [
       "16384.0"
      ]
     },
     "execution_count": 57,
     "metadata": {},
     "output_type": "execute_result"
    }
   ],
   "source": [
    "str1 = 'FRANCE'\n",
    "str2 = 'french'\n",
    "def check1(str1,str2):\n",
    "    str11 = {str1[i:i+2].lower() for i in range(len(str1)-1) if str1[i:i+2].lower().isalpha() == True}\n",
    "    str22 = {str2[j:j+2].lower() for j in range(len(str2)-1) if str2[j:j+2].lower().isalpha() == True}\n",
    "    uu = len(str11.union(str22))\n",
    "    nn = len(str11.intersection(str22))\n",
    "    \n",
    "    if len(str11)==0 and len(str22) == 0:\n",
    "        return 65536\n",
    "    else:\n",
    "        return nn/uu*65536\n",
    "\n",
    "check1(str1,str2)"
   ]
  },
  {
   "cell_type": "code",
   "execution_count": 48,
   "metadata": {
    "ExecuteTime": {
     "end_time": "2020-06-11T07:45:29.449474Z",
     "start_time": "2020-06-11T07:45:29.442477Z"
    },
    "scrolled": true
   },
   "outputs": [
    {
     "name": "stdout",
     "output_type": "stream",
     "text": [
      "['fr', 'ra', 'an', 'nc', 'ce']\n"
     ]
    }
   ],
   "source": [
    "import re\n",
    "\n",
    "str1 = 'FRANCE'\n",
    "str2 = 'french'\n",
    "p = re.compile('[a-z][a-z]')\n",
    "nn = []\n",
    "uu = []\n",
    "str11 = [str1[i:i+2].lower() for i in range(len(str1)-1) if str1[i:i+2].isalpha() == True]\n",
    "#str22 = [str2[j:j+2].lower() for j in range(len(str2)-1)]\n",
    "print(str11)"
   ]
  },
  {
   "cell_type": "code",
   "execution_count": 32,
   "metadata": {
    "ExecuteTime": {
     "end_time": "2020-06-11T07:38:30.906505Z",
     "start_time": "2020-06-11T07:38:30.901507Z"
    }
   },
   "outputs": [
    {
     "data": {
      "text/plain": [
       "['ab']"
      ]
     },
     "execution_count": 32,
     "metadata": {},
     "output_type": "execute_result"
    }
   ],
   "source": [
    "import re\n",
    "p = re.compile('[a-z][a-z]')\n",
    "result = p.findall('abc')\n",
    "result"
   ]
  },
  {
   "cell_type": "code",
   "execution_count": 56,
   "metadata": {
    "ExecuteTime": {
     "end_time": "2020-06-11T07:51:35.060494Z",
     "start_time": "2020-06-11T07:51:35.047502Z"
    },
    "scrolled": true
   },
   "outputs": [
    {
     "ename": "AttributeError",
     "evalue": "'list' object has no attribute 'union'",
     "output_type": "error",
     "traceback": [
      "\u001b[1;31m---------------------------------------------------------------------------\u001b[0m",
      "\u001b[1;31mAttributeError\u001b[0m                            Traceback (most recent call last)",
      "\u001b[1;32m<ipython-input-56-6e6511e66d9d>\u001b[0m in \u001b[0;36m<module>\u001b[1;34m\u001b[0m\n\u001b[0;32m      1\u001b[0m \u001b[0mstr11\u001b[0m \u001b[1;33m=\u001b[0m \u001b[1;33m[\u001b[0m\u001b[0mstr1\u001b[0m\u001b[1;33m[\u001b[0m\u001b[0mi\u001b[0m\u001b[1;33m:\u001b[0m\u001b[0mi\u001b[0m\u001b[1;33m+\u001b[0m\u001b[1;36m2\u001b[0m\u001b[1;33m]\u001b[0m\u001b[1;33m.\u001b[0m\u001b[0mlower\u001b[0m\u001b[1;33m(\u001b[0m\u001b[1;33m)\u001b[0m \u001b[1;32mfor\u001b[0m \u001b[0mi\u001b[0m \u001b[1;32min\u001b[0m \u001b[0mrange\u001b[0m\u001b[1;33m(\u001b[0m\u001b[0mlen\u001b[0m\u001b[1;33m(\u001b[0m\u001b[0mstr1\u001b[0m\u001b[1;33m)\u001b[0m\u001b[1;33m-\u001b[0m\u001b[1;36m1\u001b[0m\u001b[1;33m)\u001b[0m \u001b[1;32mif\u001b[0m \u001b[0mstr1\u001b[0m\u001b[1;33m[\u001b[0m\u001b[0mi\u001b[0m\u001b[1;33m:\u001b[0m\u001b[0mi\u001b[0m\u001b[1;33m+\u001b[0m\u001b[1;36m2\u001b[0m\u001b[1;33m]\u001b[0m\u001b[1;33m.\u001b[0m\u001b[0mlower\u001b[0m\u001b[1;33m(\u001b[0m\u001b[1;33m)\u001b[0m\u001b[1;33m.\u001b[0m\u001b[0misalpha\u001b[0m\u001b[1;33m(\u001b[0m\u001b[1;33m)\u001b[0m \u001b[1;33m==\u001b[0m \u001b[1;32mTrue\u001b[0m\u001b[1;33m]\u001b[0m\u001b[1;33m\u001b[0m\u001b[1;33m\u001b[0m\u001b[0m\n\u001b[0;32m      2\u001b[0m \u001b[0mstr22\u001b[0m \u001b[1;33m=\u001b[0m \u001b[1;33m[\u001b[0m\u001b[0mstr2\u001b[0m\u001b[1;33m[\u001b[0m\u001b[0mj\u001b[0m\u001b[1;33m:\u001b[0m\u001b[0mj\u001b[0m\u001b[1;33m+\u001b[0m\u001b[1;36m2\u001b[0m\u001b[1;33m]\u001b[0m\u001b[1;33m.\u001b[0m\u001b[0mlower\u001b[0m\u001b[1;33m(\u001b[0m\u001b[1;33m)\u001b[0m \u001b[1;32mfor\u001b[0m \u001b[0mj\u001b[0m \u001b[1;32min\u001b[0m \u001b[0mrange\u001b[0m\u001b[1;33m(\u001b[0m\u001b[0mlen\u001b[0m\u001b[1;33m(\u001b[0m\u001b[0mstr2\u001b[0m\u001b[1;33m)\u001b[0m\u001b[1;33m-\u001b[0m\u001b[1;36m1\u001b[0m\u001b[1;33m)\u001b[0m \u001b[1;32mif\u001b[0m \u001b[0mstr2\u001b[0m\u001b[1;33m[\u001b[0m\u001b[0mj\u001b[0m\u001b[1;33m:\u001b[0m\u001b[0mj\u001b[0m\u001b[1;33m+\u001b[0m\u001b[1;36m2\u001b[0m\u001b[1;33m]\u001b[0m\u001b[1;33m.\u001b[0m\u001b[0mlower\u001b[0m\u001b[1;33m(\u001b[0m\u001b[1;33m)\u001b[0m\u001b[1;33m.\u001b[0m\u001b[0misalpha\u001b[0m\u001b[1;33m(\u001b[0m\u001b[1;33m)\u001b[0m \u001b[1;33m==\u001b[0m \u001b[1;32mTrue\u001b[0m\u001b[1;33m]\u001b[0m\u001b[1;33m\u001b[0m\u001b[1;33m\u001b[0m\u001b[0m\n\u001b[1;32m----> 3\u001b[1;33m \u001b[0muu\u001b[0m \u001b[1;33m=\u001b[0m \u001b[0mlen\u001b[0m\u001b[1;33m(\u001b[0m\u001b[0mstr11\u001b[0m\u001b[1;33m.\u001b[0m\u001b[0munion\u001b[0m\u001b[1;33m(\u001b[0m\u001b[0mstr22\u001b[0m\u001b[1;33m)\u001b[0m\u001b[1;33m)\u001b[0m\u001b[1;33m\u001b[0m\u001b[1;33m\u001b[0m\u001b[0m\n\u001b[0m\u001b[0;32m      4\u001b[0m \u001b[0mnn\u001b[0m \u001b[1;33m=\u001b[0m \u001b[0mlen\u001b[0m\u001b[1;33m(\u001b[0m\u001b[0mstr11\u001b[0m\u001b[1;33m.\u001b[0m\u001b[0mintersection\u001b[0m\u001b[1;33m(\u001b[0m\u001b[0mstr22\u001b[0m\u001b[1;33m)\u001b[0m\u001b[1;33m)\u001b[0m\u001b[1;33m\u001b[0m\u001b[1;33m\u001b[0m\u001b[0m\n\u001b[0;32m      5\u001b[0m \u001b[0mprint\u001b[0m\u001b[1;33m(\u001b[0m\u001b[0muu\u001b[0m\u001b[1;33m)\u001b[0m\u001b[1;33m\u001b[0m\u001b[1;33m\u001b[0m\u001b[0m\n",
      "\u001b[1;31mAttributeError\u001b[0m: 'list' object has no attribute 'union'"
     ]
    }
   ],
   "source": [
    "str11 = [str1[i:i+2].lower() for i in range(len(str1)-1) if str1[i:i+2].lower().isalpha() == True]\n",
    "str22 = [str2[j:j+2].lower() for j in range(len(str2)-1) if str2[j:j+2].lower().isalpha() == True]\n",
    "uu = len(str11.union(str22))\n",
    "nn = len(str11.intersection(str22))\n",
    "print(uu)"
   ]
  },
  {
   "cell_type": "code",
   "execution_count": 61,
   "metadata": {
    "ExecuteTime": {
     "end_time": "2020-06-11T07:52:59.089307Z",
     "start_time": "2020-06-11T07:52:59.079313Z"
    },
    "scrolled": true
   },
   "outputs": [
    {
     "name": "stdout",
     "output_type": "stream",
     "text": [
      "{'aa'}\n",
      "{'aa'}\n"
     ]
    },
    {
     "data": {
      "text/plain": [
       "65536"
      ]
     },
     "execution_count": 61,
     "metadata": {},
     "output_type": "execute_result"
    }
   ],
   "source": [
    "str1 = 'aa1+aa2'\n",
    "str2 = 'AAAA12'\n",
    "def check1(str1,str2):\n",
    "    str11 = {str1[i:i+2].lower() for i in range(len(str1)-1) if str1[i:i+2].lower().isalpha() == True}\n",
    "    str22 = {str2[j:j+2].lower() for j in range(len(str2)-1) if str2[j:j+2].lower().isalpha() == True}\n",
    "    uu = len(str11.union(str22))\n",
    "    nn = len(str11.intersection(str22))\n",
    "    print(str11)\n",
    "    print(str22)\n",
    "    if len(str11)==0 and len(str22) == 0:\n",
    "        return 65536\n",
    "    else:\n",
    "        return int(nn/uu*65536)\n",
    "\n",
    "check1(str1,str2)"
   ]
  },
  {
   "cell_type": "code",
   "execution_count": null,
   "metadata": {},
   "outputs": [],
   "source": [
    "str1 = 'FRANCE'\n",
    "str2 = 'french'\n",
    "def check2(str1,str2):\n",
    "    nn = []\n",
    "    uu = []\n",
    "    str11 = [str1[i:i+2].lower() for i in range(len(str1)-1) if str1[i:i+2].lower().isalpha() == True]\n",
    "    str22 = [str2[j:j+2].lower() for j in range(len(str2)-1) if str2[j:j+2].lower().isalpha() == True]\n",
    "    start = 0\n",
    "    for i in range(start, len(str11)):\n",
    "        for j in range(start, len(str22)):\n",
    "            if str11[i]==str22[j]:\n",
    "                nn.append(str11[i])\n",
    "                str11.insert(0,str11.pop(i))\n",
    "                str22.insert(0,str22.pop(j))\n",
    "                start+=1\n",
    "                break\n",
    "\n",
    "    uu =str11[start:]+str22[start:]+nn\n",
    "\n",
    "    if len(str11)==0 and len(str22) == 0:\n",
    "            return 65536\n",
    "    else:\n",
    "        return int(len(nn)/len(uu)*65536)\n",
    "\n",
    "\n",
    "check2(str1,str2)"
   ]
  }
 ],
 "metadata": {
  "kernelspec": {
   "display_name": "Python 3",
   "language": "python",
   "name": "python3"
  },
  "language_info": {
   "codemirror_mode": {
    "name": "ipython",
    "version": 3
   },
   "file_extension": ".py",
   "mimetype": "text/x-python",
   "name": "python",
   "nbconvert_exporter": "python",
   "pygments_lexer": "ipython3",
   "version": "3.7.6"
  },
  "varInspector": {
   "cols": {
    "lenName": 16,
    "lenType": 16,
    "lenVar": 40
   },
   "kernels_config": {
    "python": {
     "delete_cmd_postfix": "",
     "delete_cmd_prefix": "del ",
     "library": "var_list.py",
     "varRefreshCmd": "print(var_dic_list())"
    },
    "r": {
     "delete_cmd_postfix": ") ",
     "delete_cmd_prefix": "rm(",
     "library": "var_list.r",
     "varRefreshCmd": "cat(var_dic_list()) "
    }
   },
   "types_to_exclude": [
    "module",
    "function",
    "builtin_function_or_method",
    "instance",
    "_Feature"
   ],
   "window_display": false
  }
 },
 "nbformat": 4,
 "nbformat_minor": 4
}
