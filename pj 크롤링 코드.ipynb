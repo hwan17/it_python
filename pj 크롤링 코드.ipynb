{
 "cells": [
  {
   "cell_type": "markdown",
   "metadata": {},
   "source": [
    "기사 크롤링\n",
    "\n",
    "코로나 %C4%DA%B7%CE%B3%AA\n",
    "비대면 %BA%F1%B4%EB%B8%E9\n",
    "언택트\n",
    "온라인\n",
    "랜선\n",
    "원격"
   ]
  },
  {
   "cell_type": "code",
   "execution_count": 1,
   "metadata": {
    "ExecuteTime": {
     "end_time": "2020-07-10T08:12:31.508285Z",
     "start_time": "2020-07-10T08:12:31.452319Z"
    }
   },
   "outputs": [
    {
     "ename": "TypeError",
     "evalue": "ord() expected a character, but string of length 3 found",
     "output_type": "error",
     "traceback": [
      "\u001b[1;31m---------------------------------------------------------------------------\u001b[0m",
      "\u001b[1;31mTypeError\u001b[0m                                 Traceback (most recent call last)",
      "\u001b[1;32m<ipython-input-1-9f44dfe5f615>\u001b[0m in \u001b[0;36m<module>\u001b[1;34m\u001b[0m\n\u001b[1;32m----> 1\u001b[1;33m \u001b[0mord\u001b[0m\u001b[1;33m(\u001b[0m\u001b[1;34m'코로나'\u001b[0m\u001b[1;33m)\u001b[0m\u001b[1;33m\u001b[0m\u001b[1;33m\u001b[0m\u001b[0m\n\u001b[0m",
      "\u001b[1;31mTypeError\u001b[0m: ord() expected a character, but string of length 3 found"
     ]
    }
   ],
   "source": [
    "ord('코로나')"
   ]
  },
  {
   "cell_type": "markdown",
   "metadata": {},
   "source": []
  },
  {
   "cell_type": "code",
   "execution_count": null,
   "metadata": {},
   "outputs": [],
   "source": [
    "import urllib.request\n",
    "from bs4 import BeautifulSoup\n",
    "\n",
    "def ebs_scroll():\n",
    "\tlist_url = \"http://home.ebs.co.kr/ladybug/board/6/10059819/oneBoardList?c.page=1&hmpMnuId=106&searchKeywordValue=0&bbsId=10059819&searchKeyword=&searchCondition=&searchConditionValue=0&\"\n",
    "\turl = urllib.request.Request(list_url)\n",
    "\tresult = urllib.request.urlopen(url).read().decode(\"utf-8\")\n",
    "\treturn result\n",
    "print(ebs_scroll() )"
   ]
  },
  {
   "cell_type": "code",
   "execution_count": 92,
   "metadata": {
    "ExecuteTime": {
     "end_time": "2020-07-10T09:37:25.426563Z",
     "start_time": "2020-07-10T09:37:25.416569Z"
    }
   },
   "outputs": [],
   "source": [
    "import urllib.request\n",
    "from bs4 import BeautifulSoup\n",
    "#from urllib import parse\n",
    "\n",
    "\n",
    "def mg(month):\n",
    "    #keyword = '+'+parse.quote(key)\n",
    "    #print(keyword)\n",
    "    \n",
    "    if month < 10:\n",
    "        month ='0'+str(month)\n",
    "    else:\n",
    "        month = str(month)\n",
    "        \n",
    "    keyls = ['%C4%DA%B7%CE%B3%AA+%BA%F1%B4%EB%B8%E9','%C4%DA%B7%CE%B3%AA+%BE%F0%C5%C3%C6%AE','%C4%DA%B7%CE%B3%AA+%BF%C2%B6%F3%C0%CE','%C4%DA%B7%CE%B3%AA+%BF%F8%B0%DD','%C4%DA%B7%CE%B3%AA+%B7%A3%BC%B1']\n",
    "    #month =\n",
    "    for kwd in keyls:\n",
    "        for pn in range(1,100):\n",
    "            list_url = \"http://find.mk.co.kr/new/search.php?pageNum=\"+str(pn)+\"&cat=&cat1=&media_eco=&pageSize=10&sub=all&dispFlag=OFF&page=news&s_kwd=\"+kwd+\"&s_page=news&go_page=&ord=1&ord1=1&ord2=0&s_keyword=\"+kwd+\"&period=p_direct&s_i_keyword=\"+kwd+\"&s_author=&y1=2020&m1=01&d1=\"+month+\"&y2=2020&m2=\"+month+\"&d2=31&ord=1&area=ttbd\"\n",
    "            #print(list_url)\n",
    "            url = urllib.request.Request(list_url)\n",
    "            result = urllib.request.urlopen(url).read().decode(\"euc-kr\")\n",
    "            soup = BeautifulSoup(result,'html.parser')\n",
    "            result1 = soup.find_all('span',class_=\"class_tit\")\n",
    "            artn=result1[0].get_text()\n",
    "            print(artn)\n",
    "            n=artn.index('건')\n",
    "            en = int(int(artn[11:n])/20)+1\n",
    "            #print(en)\n",
    "            if pn == en+1:\n",
    "                break\n",
    "            result2 = soup.find_all('span',class_=\"art_tit\")\n",
    "            for j in result2:\n",
    "                for k in j:\n",
    "                    print(k.get(\"href\"))\n",
    "\n",
    "    \n",
    "        "
   ]
  },
  {
   "cell_type": "code",
   "execution_count": 93,
   "metadata": {
    "ExecuteTime": {
     "end_time": "2020-07-10T09:37:34.229091Z",
     "start_time": "2020-07-10T09:37:27.128887Z"
    }
   },
   "outputs": [
    {
     "name": "stdout",
     "output_type": "stream",
     "text": [
      "뉴스 검색결과 [총 2건 중 1 - 20]\n",
      "\n",
      "https://www.mk.co.kr/news/economy/view/2020/01/93366/\n",
      "https://www.mk.co.kr/news/economy/view/2020/01/86962/\n",
      "뉴스 검색결과 [총 2건 중 21 - 40]\n",
      "\n",
      "뉴스 검색결과 [총 2건 중 1 - 20]\n",
      "\n",
      "https://www.mk.co.kr/news/stock/view/2020/01/94081/\n",
      "https://www.mk.co.kr/news/economy/view/2020/01/93366/\n",
      "뉴스 검색결과 [총 2건 중 21 - 40]\n",
      "\n",
      "뉴스 검색결과 [총 137건 중 1 - 20]\n",
      "\n",
      "https://www.mk.co.kr/news/world/view/2020/01/103336/\n",
      "https://www.mk.co.kr/news/world/view/2020/01/103328/\n",
      "https://www.mk.co.kr/news/world/view/2020/01/103202/\n",
      "https://www.mk.co.kr/news/world/view/2020/01/103192/\n",
      "https://www.mk.co.kr/news/society/view/2020/01/103065/\n",
      "https://www.mk.co.kr/news/home/view/2020/01/102891/\n",
      "https://www.mk.co.kr/news/stock/view/2020/01/102670/\n",
      "https://www.mk.co.kr/news/stock/view/2020/01/102666/\n",
      "https://www.mk.co.kr/news/world/view/2020/01/102483/\n",
      "https://www.mk.co.kr/news/society/view/2020/01/102376/\n",
      "https://www.mk.co.kr/news/politics/view/2020/01/101986/\n",
      "https://www.mk.co.kr/news/society/view/2020/01/101953/\n",
      "https://www.mk.co.kr/news/society/view/2020/01/101902/\n",
      "https://www.mk.co.kr/news/business/view/2020/01/101757/\n",
      "https://www.mk.co.kr/news/business/view/2020/01/101675/\n",
      "https://www.mk.co.kr/news/world/view/2020/01/101628/\n",
      "https://www.mk.co.kr/news/world/view/2020/01/101575/\n",
      "https://www.mk.co.kr/news/stock/view/2020/01/101530/\n",
      "https://www.mk.co.kr/news/world/view/2020/01/101399/\n",
      "https://www.mk.co.kr/news/society/view/2020/01/100924/\n",
      "뉴스 검색결과 [총 137건 중 21 - 40]\n",
      "\n",
      "https://www.mk.co.kr/news/economy/view/2020/01/100920/\n",
      "https://www.mk.co.kr/news/society/view/2020/01/100636/\n",
      "https://www.mk.co.kr/news/stock/view/2020/01/100455/\n",
      "https://www.mk.co.kr/news/world/view/2020/01/100443/\n",
      "https://www.mk.co.kr/news/society/view/2020/01/100262/\n",
      "https://www.mk.co.kr/news/business/view/2020/01/100087/\n",
      "https://www.mk.co.kr/news/business/view/2020/01/99772/\n",
      "https://www.mk.co.kr/news/business/view/2020/01/99729/\n",
      "https://www.mk.co.kr/news/world/view/2020/01/99704/\n",
      "https://www.mk.co.kr/news/business/view/2020/01/99388/\n",
      "https://www.mk.co.kr/news/world/view/2020/01/98903/\n",
      "https://www.mk.co.kr/news/world/view/2020/01/98892/\n",
      "https://www.mk.co.kr/news/world/view/2020/01/98866/\n",
      "https://www.mk.co.kr/news/world/view/2020/01/98525/\n",
      "https://www.mk.co.kr/news/society/view/2020/01/98372/\n",
      "https://www.mk.co.kr/news/society/view/2020/01/98210/\n",
      "https://www.mk.co.kr/news/society/view/2020/01/98032/\n",
      "https://www.mk.co.kr/news/stock/view/2020/01/97826/\n",
      "https://www.mk.co.kr/news/stock/view/2020/01/97820/\n",
      "https://www.mk.co.kr/news/business/view/2020/01/97791/\n",
      "뉴스 검색결과 [총 137건 중 41 - 60]\n",
      "\n",
      "https://www.mk.co.kr/news/society/view/2020/01/97692/\n",
      "https://www.mk.co.kr/news/society/view/2020/01/97516/\n",
      "https://www.mk.co.kr/news/world/view/2020/01/97148/\n",
      "https://www.mk.co.kr/news/world/view/2020/01/97097/\n",
      "https://www.mk.co.kr/news/business/view/2020/01/97059/\n",
      "https://www.mk.co.kr/news/society/view/2020/01/97012/\n",
      "https://www.mk.co.kr/news/stock/view/2020/01/96715/\n",
      "https://www.mk.co.kr/news/world/view/2020/01/96142/\n",
      "https://www.mk.co.kr/news/world/view/2020/01/96000/\n",
      "https://www.mk.co.kr/news/society/view/2020/01/95604/\n",
      "https://www.mk.co.kr/news/politics/view/2020/01/95542/\n",
      "https://www.mk.co.kr/news/world/view/2020/01/95459/\n",
      "https://www.mk.co.kr/news/world/view/2020/01/95431/\n",
      "https://www.mk.co.kr/news/society/view/2020/01/95422/\n",
      "https://www.mk.co.kr/news/stock/view/2020/01/95400/\n",
      "https://www.mk.co.kr/news/society/view/2020/01/95318/\n",
      "https://www.mk.co.kr/news/world/view/2020/01/94990/\n",
      "https://www.mk.co.kr/news/society/view/2020/01/94827/\n",
      "https://www.mk.co.kr/news/society/view/2020/01/94660/\n",
      "https://www.mk.co.kr/news/society/view/2020/01/94396/\n",
      "뉴스 검색결과 [총 137건 중 61 - 80]\n",
      "\n",
      "https://www.mk.co.kr/news/economy/view/2020/01/94282/\n",
      "https://www.mk.co.kr/news/stock/view/2020/01/94131/\n",
      "https://www.mk.co.kr/news/stock/view/2020/01/94081/\n",
      "https://www.mk.co.kr/news/society/view/2020/01/93997/\n",
      "https://www.mk.co.kr/news/society/view/2020/01/93848/\n",
      "https://www.mk.co.kr/news/society/view/2020/01/93833/\n",
      "https://www.mk.co.kr/news/society/view/2020/01/93699/\n",
      "https://www.mk.co.kr/news/society/view/2020/01/93460/\n",
      "https://www.mk.co.kr/news/economy/view/2020/01/93366/\n",
      "https://www.mk.co.kr/news/society/view/2020/01/93341/\n",
      "https://www.mk.co.kr/news/world/view/2020/01/93335/\n",
      "https://www.mk.co.kr/news/economy/view/2020/01/93177/\n",
      "https://www.mk.co.kr/news/business/view/2020/01/93125/\n",
      "https://www.mk.co.kr/news/world/view/2020/01/92765/\n",
      "https://www.mk.co.kr/news/world/view/2020/01/92730/\n",
      "https://www.mk.co.kr/news/business/view/2020/01/92318/\n",
      "https://www.mk.co.kr/news/society/view/2020/01/92089/\n",
      "https://www.mk.co.kr/news/society/view/2020/01/92000/\n",
      "https://www.mk.co.kr/news/society/view/2020/01/91876/\n",
      "https://www.mk.co.kr/news/business/view/2020/01/91611/\n",
      "뉴스 검색결과 [총 137건 중 81 - 100]\n",
      "\n",
      "https://www.mk.co.kr/news/world/view/2020/01/91252/\n",
      "https://www.mk.co.kr/news/society/view/2020/01/90808/\n",
      "https://www.mk.co.kr/news/society/view/2020/01/90349/\n",
      "https://www.mk.co.kr/news/society/view/2020/01/90296/\n",
      "https://www.mk.co.kr/news/world/view/2020/01/89143/\n",
      "https://www.mk.co.kr/opinion/editorial/view/2020/01/89022/\n",
      "https://www.mk.co.kr/news/economy/view/2020/01/89037/\n",
      "https://www.mk.co.kr/news/world/view/2020/01/88921/\n",
      "https://www.mk.co.kr/news/society/view/2020/01/88903/\n",
      "https://www.mk.co.kr/news/society/view/2020/01/88872/\n",
      "https://www.mk.co.kr/news/economy/view/2020/01/88645/\n",
      "https://www.mk.co.kr/news/home/view/2020/01/88558/\n",
      "https://www.mk.co.kr/news/stock/view/2020/01/88286/\n",
      "https://www.mk.co.kr/news/economy/view/2020/01/88048/\n",
      "https://www.mk.co.kr/news/world/view/2020/01/87912/\n",
      "https://www.mk.co.kr/news/home/view/2020/01/87625/\n",
      "https://www.mk.co.kr/news/society/view/2020/01/87530/\n",
      "https://www.mk.co.kr/news/society/view/2020/01/87364/\n",
      "https://www.mk.co.kr/news/society/view/2020/01/87072/\n",
      "https://www.mk.co.kr/news/world/view/2020/01/86905/\n",
      "뉴스 검색결과 [총 137건 중 101 - 120]\n",
      "\n",
      "https://www.mk.co.kr/news/economy/view/2020/01/86533/\n",
      "https://www.mk.co.kr/news/stock/view/2020/01/86249/\n",
      "https://www.mk.co.kr/news/society/view/2020/01/86212/\n",
      "https://www.mk.co.kr/news/economy/view/2020/01/86183/\n",
      "https://www.mk.co.kr/news/society/view/2020/01/86123/\n",
      "https://www.mk.co.kr/news/society/view/2020/01/86127/\n",
      "https://www.mk.co.kr/news/world/view/2020/01/86029/\n",
      "https://www.mk.co.kr/news/society/view/2020/01/85930/\n",
      "https://www.mk.co.kr/news/it/view/2020/01/85118/\n",
      "https://www.mk.co.kr/news/it/view/2020/01/84777/\n",
      "https://www.mk.co.kr/news/politics/view/2020/01/84358/\n",
      "https://www.mk.co.kr/news/society/view/2020/01/84306/\n",
      "https://www.mk.co.kr/news/world/view/2020/01/83534/\n",
      "https://www.mk.co.kr/news/politics/view/2020/01/83145/\n",
      "https://www.mk.co.kr/news/world/view/2020/01/82927/\n",
      "https://www.mk.co.kr/news/world/view/2020/01/82873/\n",
      "https://www.mk.co.kr/news/world/view/2020/01/82840/\n",
      "https://www.mk.co.kr/news/world/view/2020/01/82377/\n",
      "https://www.mk.co.kr/news/world/view/2020/01/81417/\n",
      "https://www.mk.co.kr/news/world/view/2020/01/80905/\n",
      "뉴스 검색결과 [총 137건 중 121 - 140]\n",
      "\n",
      "https://www.mk.co.kr/news/world/view/2020/01/80413/\n",
      "https://www.mk.co.kr/news/world/view/2020/01/80303/\n",
      "https://www.mk.co.kr/news/economy/view/2020/01/79608/\n",
      "https://www.mk.co.kr/news/world/view/2020/01/79201/\n",
      "https://www.mk.co.kr/news/world/view/2020/01/78219/\n",
      "https://www.mk.co.kr/news/world/view/2020/01/77554/\n",
      "https://www.mk.co.kr/news/business/view/2020/01/77450/\n",
      "https://www.mk.co.kr/news/economy/view/2020/01/77010/\n",
      "https://www.mk.co.kr/news/stock/view/2020/01/75059/\n",
      "https://www.mk.co.kr/news/stock/view/2020/01/75046/\n",
      "https://www.mk.co.kr/news/world/view/2020/01/74318/\n",
      "https://www.mk.co.kr/news/stock/view/2020/01/72853/\n",
      "https://www.mk.co.kr/news/world/view/2020/01/70776/\n",
      "https://www.mk.co.kr/news/world/view/2020/01/70069/\n",
      "https://www.mk.co.kr/news/world/view/2020/01/62361/\n",
      "https://www.mk.co.kr/news/world/view/2020/01/58670/\n",
      "https://www.mk.co.kr/news/world/view/2020/01/58522/\n",
      "뉴스 검색결과 [총 137건 중 141 - 160]\n",
      "\n",
      "뉴스 검색결과 [총 10건 중 1 - 20]\n",
      "\n",
      "https://www.mk.co.kr/news/world/view/2020/01/103336/\n",
      "https://www.mk.co.kr/news/world/view/2020/01/100251/\n",
      "https://www.mk.co.kr/news/politics/view/2020/01/97306/\n",
      "https://www.mk.co.kr/news/world/view/2020/01/88989/\n",
      "https://www.mk.co.kr/news/world/view/2020/01/87059/\n",
      "https://www.mk.co.kr/news/world/view/2020/01/86029/\n",
      "https://www.mk.co.kr/news/world/view/2020/01/84835/\n",
      "https://www.mk.co.kr/news/world/view/2020/01/84321/\n",
      "https://www.mk.co.kr/news/world/view/2020/01/83783/\n",
      "https://www.mk.co.kr/news/home/view/2020/01/69759/\n"
     ]
    },
    {
     "name": "stdout",
     "output_type": "stream",
     "text": [
      "뉴스 검색결과 [총 10건 중 21 - 40]\n",
      "\n",
      "뉴스 검색결과 [총 0건중 1 - 20]\n",
      "\n",
      "뉴스 검색결과 [총 0건중 21 - 40]\n",
      "\n"
     ]
    }
   ],
   "source": [
    "mg(1)"
   ]
  },
  {
   "cell_type": "code",
   "execution_count": null,
   "metadata": {},
   "outputs": [],
   "source": [
    "ketword = \"원격\"\n",
    "    #month = \n",
    "if month < 10:\n",
    "    month ='0'+str(month)\n",
    "else:\n",
    "    month = str(month)\n",
    "list_url = \"http://find.mk.co.kr/new/search.php?pageNum=1&cat=&cat1=&media_eco=&pageSize=10&sub=all&dispFlag=OFF&page=news&s_kwd=%C4%DA%B7%CE%B3%AA\"+keyword+\"&s_page=news&go_page=&ord=1&ord1=1&ord2=0&s_keyword=%C4%DA%B7%CE%B3%AA\"+keyword+\"&period=p_direct&s_i_keyword=%C4%DA%B7%CE%B3%AA\"+keyword+\"&s_author=&y1=2020&m1=01&d1=\"+month+\"&y2=2020&m2=\"+month+\"&d2=31&ord=1&area=ttbd\""
   ]
  },
  {
   "cell_type": "code",
   "execution_count": 8,
   "metadata": {
    "ExecuteTime": {
     "end_time": "2020-07-10T08:41:37.181720Z",
     "start_time": "2020-07-10T08:41:37.177721Z"
    }
   },
   "outputs": [
    {
     "data": {
      "text/plain": [
       "'%EC%BD%94%EB%A1%9C%EB%82%98'"
      ]
     },
     "execution_count": 8,
     "metadata": {},
     "output_type": "execute_result"
    }
   ],
   "source": [
    "from urllib import parse\n",
    "\n",
    "parse.quote(\"코로나\")\n"
   ]
  }
 ],
 "metadata": {
  "kernelspec": {
   "display_name": "Python 3",
   "language": "python",
   "name": "python3"
  },
  "language_info": {
   "codemirror_mode": {
    "name": "ipython",
    "version": 3
   },
   "file_extension": ".py",
   "mimetype": "text/x-python",
   "name": "python",
   "nbconvert_exporter": "python",
   "pygments_lexer": "ipython3",
   "version": "3.7.6"
  },
  "varInspector": {
   "cols": {
    "lenName": 16,
    "lenType": 16,
    "lenVar": 40
   },
   "kernels_config": {
    "python": {
     "delete_cmd_postfix": "",
     "delete_cmd_prefix": "del ",
     "library": "var_list.py",
     "varRefreshCmd": "print(var_dic_list())"
    },
    "r": {
     "delete_cmd_postfix": ") ",
     "delete_cmd_prefix": "rm(",
     "library": "var_list.r",
     "varRefreshCmd": "cat(var_dic_list()) "
    }
   },
   "types_to_exclude": [
    "module",
    "function",
    "builtin_function_or_method",
    "instance",
    "_Feature"
   ],
   "window_display": false
  }
 },
 "nbformat": 4,
 "nbformat_minor": 4
}
