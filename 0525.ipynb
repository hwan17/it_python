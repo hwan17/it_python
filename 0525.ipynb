{
 "cells": [
  {
   "cell_type": "code",
   "execution_count": null,
   "metadata": {},
   "outputs": [],
   "source": [
    "a = []\n",
    "for i in range(100000):\n",
    "    import numpy as np\n",
    "    avg = 148.5\n",
    "    std = 7.8\n",
    "    N =1000000\n",
    "    height = np.random.randn(N)*std+ avg\n",
    "    a.append(np.random.choice(height,100).mean())"
   ]
  },
  {
   "cell_type": "code",
   "execution_count": null,
   "metadata": {},
   "outputs": [],
   "source": [
    "import numpy as np\n",
    "avg = 148.5\n",
    "std = 7.8\n",
    "N =1000000\n",
    "height = np.random.randn(N)*std+ avg\n",
    "np.random.choice(height,100).mean()"
   ]
  },
  {
   "cell_type": "code",
   "execution_count": null,
   "metadata": {
    "scrolled": true
   },
   "outputs": [],
   "source": [
    "a = [1,2,'a','b','c',[4,5,6]]\n",
    "print(a.index(2))"
   ]
  },
  {
   "cell_type": "code",
   "execution_count": null,
   "metadata": {},
   "outputs": [],
   "source": [
    "a = [1,2,'a','b','c',[4,5,6]]\n",
    "print(a.index(4))b"
   ]
  },
  {
   "cell_type": "code",
   "execution_count": null,
   "metadata": {},
   "outputs": [],
   "source": [
    "list_a = ['a','b','c','d','e','f','g']\n",
    "list_a[0] = 'z'\n",
    "print(list_a)"
   ]
  },
  {
   "cell_type": "code",
   "execution_count": null,
   "metadata": {},
   "outputs": [],
   "source": [
    "list_a[list_a.index('d')] = 'k'\n",
    "print(list_a)"
   ]
  },
  {
   "cell_type": "code",
   "execution_count": null,
   "metadata": {
    "scrolled": true
   },
   "outputs": [],
   "source": [
    "list_a = ['a','b','c','d','a','f','g']\n",
    "list_a.index('a',2,5)"
   ]
  },
  {
   "cell_type": "code",
   "execution_count": null,
   "metadata": {
    "scrolled": true
   },
   "outputs": [],
   "source": [
    "sol = ['태양','수성','금성','지구','화성','목성','토성','천왕성','해왕성']\n",
    "rock_planets = sol[1:4]\n",
    "gas_planets = sol[4:]\n",
    "print(rock_planets)\n",
    "print(gas_planets)"
   ]
  },
  {
   "cell_type": "code",
   "execution_count": null,
   "metadata": {
    "scrolled": true
   },
   "outputs": [],
   "source": [
    "import string\n",
    "list_b = [i for i in string.ascii_lowercase ]\n",
    "print(list_b)"
   ]
  },
  {
   "cell_type": "code",
   "execution_count": null,
   "metadata": {
    "scrolled": true
   },
   "outputs": [],
   "source": [
    "list_c = list_b[list_b.index('h'):]\n",
    "print(list_c)"
   ]
  },
  {
   "cell_type": "code",
   "execution_count": null,
   "metadata": {
    "scrolled": true
   },
   "outputs": [],
   "source": [
    "listdata = list( range(1,21) )\n",
    "print(listdata)\n",
    "k= listdata[1::2]\n",
    "print(k)"
   ]
  },
  {
   "cell_type": "code",
   "execution_count": null,
   "metadata": {
    "scrolled": true
   },
   "outputs": [],
   "source": [
    "k2 = listdata[::2]\n",
    "print(k2)"
   ]
  },
  {
   "cell_type": "code",
   "execution_count": null,
   "metadata": {
    "scrolled": true
   },
   "outputs": [],
   "source": [
    "dice = list(range(1,7));\n",
    "dice"
   ]
  },
  {
   "cell_type": "code",
   "execution_count": null,
   "metadata": {},
   "outputs": [],
   "source": [
    "import random\n",
    "cnt = 0\n",
    "for i in range(1,100001):\n",
    "    if random.choice(dice)%2 == 0:\n",
    "        cnt += 1\n",
    "print(cnt/i)"
   ]
  },
  {
   "cell_type": "code",
   "execution_count": null,
   "metadata": {
    "scrolled": true
   },
   "outputs": [],
   "source": [
    "listdata = list( range(5,0,-1) )\n",
    "result1 = reversed(listdata)\n",
    "print(result1)\n",
    "print(list(result1))\n",
    "print(listdata)"
   ]
  },
  {
   "cell_type": "code",
   "execution_count": null,
   "metadata": {
    "scrolled": true
   },
   "outputs": [],
   "source": [
    "import csv\n",
    "file = open('c:\\\\data\\\\emp11.csv','r')\n",
    "emp11 = csv.reader(file)\n",
    "a = []\n",
    "for list1 in emp11:\n",
    "    a.append(list1[1])\n",
    "#print(a)\n",
    "print(list(reversed(sorted(a))))\n"
   ]
  },
  {
   "cell_type": "code",
   "execution_count": null,
   "metadata": {
    "scrolled": true
   },
   "outputs": [],
   "source": [
    "from my_loc import oracle as oc\n",
    "emp11 = oc.connect('emp11')\n",
    "n =[]\n",
    "for i in emp11['ENAME']:\n",
    "    n.append(i)\n",
    "n.sort()\n",
    "n.reverse()\n",
    "n"
   ]
  },
  {
   "cell_type": "code",
   "execution_count": null,
   "metadata": {},
   "outputs": [],
   "source": [
    "listdata = list(range(5))\n",
    "listdata.reverse()\n",
    "print(listdata)"
   ]
  },
  {
   "cell_type": "code",
   "execution_count": null,
   "metadata": {
    "scrolled": true
   },
   "outputs": [],
   "source": [
    "listdata1 = ['a','b','c','d','e']\n",
    "listdata2 = ['f','g','h','i','j']\n",
    "listdata3 = listdata1 + listdata2\n",
    "print(listdata3)\n",
    "listdata3 - ['a','b','c']\n",
    "print(listdata3)"
   ]
  },
  {
   "cell_type": "code",
   "execution_count": null,
   "metadata": {},
   "outputs": [],
   "source": [
    "listage = [34]*10 + [2]*10\n",
    "print(listage)"
   ]
  },
  {
   "cell_type": "code",
   "execution_count": null,
   "metadata": {},
   "outputs": [],
   "source": [
    "listdata= list(range(3))\n",
    "result = listdata *3\n",
    "print(result)\n",
    "print(listdata)"
   ]
  },
  {
   "cell_type": "code",
   "execution_count": null,
   "metadata": {
    "scrolled": true
   },
   "outputs": [],
   "source": [
    "listage = [34]*10 + [2]*10\n",
    "av = sum(listage)/len(listage)\n",
    "print(av)"
   ]
  },
  {
   "cell_type": "code",
   "execution_count": null,
   "metadata": {
    "scrolled": true
   },
   "outputs": [],
   "source": [
    "import numpy as np\n",
    "\n",
    "listage = [34]*10 + [2]*10\n",
    "a = np.array(listage)\n",
    "me = np.mean(a)\n",
    "print(me)"
   ]
  },
  {
   "cell_type": "code",
   "execution_count": null,
   "metadata": {},
   "outputs": [],
   "source": [
    "import numpy as np\n",
    "\n",
    "listage = [34]*10 + [2]*10\n",
    "a = np.array(listage)\n",
    "me = np.median(a)\n",
    "print(me)"
   ]
  },
  {
   "cell_type": "code",
   "execution_count": null,
   "metadata": {},
   "outputs": [],
   "source": [
    "from scipy import stats\n",
    "listage = [34]*11 + [2]*10\n",
    "me = stats.mode(listage)\n",
    "print(me)"
   ]
  },
  {
   "cell_type": "code",
   "execution_count": null,
   "metadata": {
    "scrolled": true
   },
   "outputs": [],
   "source": [
    "listdata = []\n",
    "for i in range(3):\n",
    "    txt = input('리스트에 추가할 값 입력')\n",
    "    listdata.append(txt)\n",
    "    print(listdata)"
   ]
  },
  {
   "cell_type": "code",
   "execution_count": null,
   "metadata": {
    "scrolled": true
   },
   "outputs": [],
   "source": [
    "import csv\n",
    "file = open('c:\\\\data\\\\emp11.csv','r')\n",
    "emp11 = csv.reader(file)\n",
    "age = []\n",
    "for list1 in emp11:\n",
    "    age.append(int(list1[3]))\n",
    "print(age)\n",
    "#print(list(reversed(sorted(a))))\n"
   ]
  },
  {
   "cell_type": "code",
   "execution_count": null,
   "metadata": {},
   "outputs": [],
   "source": [
    "from my_loc import oracle as oc\n",
    "import numpy as np\n",
    "emp11 = oc.connect('emp11')\n",
    "age = []\n",
    "for i in emp11['AGE']:\n",
    "    age.append(i)\n",
    "print(age)"
   ]
  },
  {
   "cell_type": "code",
   "execution_count": null,
   "metadata": {},
   "outputs": [],
   "source": [
    "from my_loc import oracle as oc\n",
    "import numpy as np\n",
    "age = []\n",
    "emp11 = oc.connect('emp11')\n",
    "for i in emp11['AGE']:\n",
    "    age.append(i)\n",
    "#print(age)\n",
    "print(np.max(age))\n",
    "print(np.min(age))\n",
    "print(np.mean(age))\n",
    "print(np.sum(age))\n",
    "print(np.var(age))\n",
    "print(np.std(age))"
   ]
  },
  {
   "cell_type": "code",
   "execution_count": null,
   "metadata": {
    "scrolled": true
   },
   "outputs": [],
   "source": [
    "import numpy as np\n",
    "height = np.random.randn(100000) * 5 +150\n",
    "print(height)"
   ]
  },
  {
   "cell_type": "code",
   "execution_count": null,
   "metadata": {},
   "outputs": [],
   "source": [
    "from my_loc import oracle as oc\n",
    "import numpy as np\n",
    "import matplotlib.pyplot as plt\n",
    "age = []\n",
    "emp11 = oc.connect('emp11')\n",
    "for i in emp11['AGE']:\n",
    "    age.append(i)\n",
    "#height = np.random.randn(100000) * 5 +150 # 초등학생 키 10만개\n",
    "bins =  np.arange(24, 35, 2) # 계급의 크기를 나타내는 가로의 길이 설정\n",
    "#print(bins)#[142 144 146 148 150 152 154 156 158 160]\n",
    "hist, bins = np.histogram(height, bins)\n",
    "plt.xticks(bins, fontsize = 10) # x축 숫자의 글씨 크기\n",
    "plt.grid() #격자 모양이 생김\n",
    "plt.hist( age, bins, rwidth = 0.8, alpha=0.7, color = 'red')\n",
    "# rwidth는 히스토 그래프의 넓이, alpha 색의 흐린정도\n",
    "#print(hist)\n",
    "#print(bins)"
   ]
  },
  {
   "cell_type": "code",
   "execution_count": null,
   "metadata": {
    "scrolled": true
   },
   "outputs": [],
   "source": [
    "a = [1,3,2,4,5]\n",
    "a.insert(3,'b')\n",
    "print(a)"
   ]
  },
  {
   "cell_type": "code",
   "execution_count": null,
   "metadata": {},
   "outputs": [],
   "source": [
    "a = ['태양','수성','금성','지구','화성','목성','토성','천왕성','해왕성']\n",
    "a.insert(a.index('화성')+1, '소행성')\n",
    "print(a)"
   ]
  },
  {
   "cell_type": "code",
   "execution_count": null,
   "metadata": {},
   "outputs": [],
   "source": [
    "a = ['태양','수성','금성','지구','화성','목성','토성','천왕성','해왕성']\n",
    "a.remove('토성')\n",
    "print(a)"
   ]
  },
  {
   "cell_type": "code",
   "execution_count": null,
   "metadata": {
    "scrolled": true
   },
   "outputs": [],
   "source": [
    "a = ['태양','수성','금성','지구','화성','목성','토성','천왕성','해왕성']\n",
    "del(a[2])\n",
    "print(a)\n"
   ]
  },
  {
   "cell_type": "code",
   "execution_count": null,
   "metadata": {},
   "outputs": [],
   "source": [
    "a = ['태양','수성','금성','지구','화성','목성','토성','천왕성','해왕성']\n",
    "a.remove('토성')\n",
    "print(a)"
   ]
  },
  {
   "cell_type": "code",
   "execution_count": null,
   "metadata": {},
   "outputs": [],
   "source": [
    "a = ['태양','수성','금성','지구','화성','목성','토성','천왕성','해왕성']\n",
    "del(a[a.index('금성'):a.index('목성')+1])\n",
    "print(a)"
   ]
  },
  {
   "cell_type": "code",
   "execution_count": null,
   "metadata": {
    "scrolled": true
   },
   "outputs": [],
   "source": [
    "a = ['태양','수성','금성','지구','화성','목성','토성','천왕성','해왕성']\n",
    "del(a[:])\n",
    "print(a)"
   ]
  },
  {
   "cell_type": "code",
   "execution_count": null,
   "metadata": {},
   "outputs": [],
   "source": [
    "import csv\n",
    "file = open('c:\\\\data\\\\emp2.csv','r')\n",
    "emp = csv.reader(file)\n",
    "a = []\n",
    "for list1 in emp:\n",
    "    a.append(list1[0])\n",
    "print(len(a))"
   ]
  },
  {
   "cell_type": "code",
   "execution_count": null,
   "metadata": {},
   "outputs": [],
   "source": [
    "from my_loc import oracle as oc\n",
    "import pandas as pd\n",
    "emp11= oc.connect('emp11')\n",
    "age =[]\n",
    "for i in emp11.AGE:\n",
    "    age.append(i)\n",
    "print(age.count(27))"
   ]
  },
  {
   "cell_type": "code",
   "execution_count": null,
   "metadata": {},
   "outputs": [],
   "source": [
    "import csv\n",
    "file = open('c:\\\\data\\\\emp11.csv','r')\n",
    "emp11 = csv.reader(file)\n",
    "a = []\n",
    "for list1 in emp11:\n",
    "    a.append(list1[3])\n",
    "print(a.count('27'))"
   ]
  },
  {
   "cell_type": "code",
   "execution_count": null,
   "metadata": {},
   "outputs": [],
   "source": [
    "listdata = [2,2,1,3,8,5,7]\n",
    "print(listdata)\n",
    "del listdata\n",
    "print(listdata)"
   ]
  },
  {
   "cell_type": "code",
   "execution_count": null,
   "metadata": {
    "scrolled": true
   },
   "outputs": [],
   "source": [
    "dir()"
   ]
  },
  {
   "cell_type": "code",
   "execution_count": null,
   "metadata": {
    "scrolled": true
   },
   "outputs": [],
   "source": [
    "globals()"
   ]
  },
  {
   "cell_type": "code",
   "execution_count": null,
   "metadata": {
    "scrolled": true
   },
   "outputs": [],
   "source": [
    "#for i in range(len(dir))\n",
    "print(len(dir()))"
   ]
  },
  {
   "cell_type": "code",
   "execution_count": null,
   "metadata": {},
   "outputs": [],
   "source": [
    "listdata = [2,2,1,3,8,5,7]\n",
    "listdata.sort(reverse=True)\n",
    "print(listdata)"
   ]
  },
  {
   "cell_type": "code",
   "execution_count": null,
   "metadata": {},
   "outputs": [],
   "source": [
    "listdata = [2,2,1,3,8,5,7]\n",
    "sorted(listdata, reverse = 1)\n",
    "result1 = sorted(listdata)\n",
    "result2 = sorted(listdata, reverse= True)\n",
    "print(result1)\n",
    "print(result2)"
   ]
  },
  {
   "cell_type": "code",
   "execution_count": null,
   "metadata": {
    "scrolled": true
   },
   "outputs": [],
   "source": [
    "from random import shuffle\n",
    "\n",
    "listdata = [1,2,3,4,5,6,7,8,9,10]\n",
    "shuffle(listdata)\n",
    "print(listdata)"
   ]
  },
  {
   "cell_type": "code",
   "execution_count": null,
   "metadata": {},
   "outputs": [],
   "source": [
    "from random import shuffle\n",
    "\n",
    "artist = ['소녀시대','소녀시대','방탄소년단','방탄소년단']\n",
    "music = ['소원을 말해봐','다시 만난 세계','아이돌','작은것들을 위한 시']\n",
    "\n",
    "shuffle(music)\n",
    "print(music)\n",
    "#shuffle(artist)\n",
    "#print()"
   ]
  },
  {
   "cell_type": "code",
   "execution_count": null,
   "metadata": {},
   "outputs": [],
   "source": [
    "d2 = {}\n",
    "d2['one'] = 'a'\n",
    "print(d2)\n",
    "d2['two'] = 'b'\n",
    "print(d2)\n",
    "d2['kk'] "
   ]
  },
  {
   "cell_type": "code",
   "execution_count": null,
   "metadata": {
    "scrolled": true
   },
   "outputs": [],
   "source": [
    "from collections import defaultdict\n",
    "d3 = defaultdict(list) # 리스트 형태를 값으로 해서 딕셔너리 생성\n",
    "d3['one']\n",
    "d3['two']\n",
    "print(d3)"
   ]
  },
  {
   "cell_type": "code",
   "execution_count": null,
   "metadata": {},
   "outputs": [],
   "source": [
    "\n",
    "artist = ['소녀시대','소녀시대','방탄소년단','방탄소년단']\n",
    "music = ['소원을 말해봐','다시 만난 세계','아이돌','작은것들을 위한 시']\n",
    "\n"
   ]
  },
  {
   "cell_type": "code",
   "execution_count": null,
   "metadata": {},
   "outputs": [],
   "source": [
    "emp11=['정주희','이준호','홍승희','박상희']\n",
    "result1 = list(enumerate( emp11) )\n",
    "print(result1)\n"
   ]
  },
  {
   "cell_type": "code",
   "execution_count": null,
   "metadata": {},
   "outputs": [],
   "source": [
    "for i, name in enumerate(emp11):\n",
    "    print(i, name)"
   ]
  },
  {
   "cell_type": "code",
   "execution_count": null,
   "metadata": {
    "scrolled": true
   },
   "outputs": [],
   "source": [
    "from collections import defaultdict\n",
    "artist = ['소녀시대','소녀시대','방탄소년단','방탄소년단']\n",
    "music = ['소원을 말해봐','다시 만난 세계','아이돌','DNA']\n",
    "box = defaultdict(list)\n",
    "for i, arti in enumerate(artist):\n",
    "    box[arti].append(music[i])\n",
    "print(box)"
   ]
  },
  {
   "cell_type": "code",
   "execution_count": null,
   "metadata": {
    "scrolled": false
   },
   "outputs": [],
   "source": [
    "lista = []\n",
    "for i in box.values():\n",
    "    lista += i\n",
    "print(lista)"
   ]
  },
  {
   "cell_type": "code",
   "execution_count": null,
   "metadata": {
    "scrolled": true
   },
   "outputs": [],
   "source": [
    "lista = []\n",
    "for i in box.values():\n",
    "    lista += i\n",
    "print(lista)"
   ]
  },
  {
   "cell_type": "code",
   "execution_count": null,
   "metadata": {
    "scrolled": true
   },
   "outputs": [],
   "source": [
    "shuffle(lista)\n",
    "lista"
   ]
  },
  {
   "cell_type": "code",
   "execution_count": null,
   "metadata": {
    "scrolled": false
   },
   "outputs": [],
   "source": [
    "from collections import defaultdict\n",
    "artist = ['소녀시대','소녀시대','방탄소년단','방탄소년단']\n",
    "music = ['소원을 말해봐','다시 만난 세계','아이돌','DNA']\n",
    "box = defaultdict(list)\n",
    "for i, arti in enumerate(artist):\n",
    "    box[arti].append(music[i])\n",
    "print(box)"
   ]
  },
  {
   "cell_type": "code",
   "execution_count": null,
   "metadata": {
    "scrolled": true
   },
   "outputs": [],
   "source": [
    "from collections import defaultdict\n",
    "artist = ['소녀시대','소녀시대','방탄소년단','방탄소년단']\n",
    "music = ['소원을 말해봐','다시 만난 세계','아이돌','DNA']\n",
    "box = defaultdict(list)\n",
    "for i, arti in enumerate(artist):\n",
    "    box[arti].append(music[i])\n",
    "lista = []\n",
    "for i in box.values():\n",
    "    lista += i\n",
    "#print(lista)\n",
    "shuffle(lista)\n",
    "lista"
   ]
  },
  {
   "cell_type": "code",
   "execution_count": null,
   "metadata": {
    "scrolled": true
   },
   "outputs": [],
   "source": [
    "shuffle(lista,1.0)\n",
    "lista"
   ]
  },
  {
   "cell_type": "code",
   "execution_count": null,
   "metadata": {
    "scrolled": true
   },
   "outputs": [],
   "source": [
    "list(box.keys())"
   ]
  },
  {
   "cell_type": "code",
   "execution_count": null,
   "metadata": {
    "scrolled": true
   },
   "outputs": [],
   "source": [
    "shuffle?"
   ]
  },
  {
   "cell_type": "code",
   "execution_count": null,
   "metadata": {
    "scrolled": true
   },
   "outputs": [],
   "source": [
    "from collections import defaultdict\n",
    "artist = ['소녀시대','소녀시대','방탄소년단','방탄소년단']\n",
    "music = ['소원을 말해봐','다시 만난 세계','아이돌','DNA']\n",
    "box = defaultdict(list)\n",
    "for i, arti in enumerate(artist):\n",
    "    box[arti].append(music[i])\n",
    "list(box.keys())\n",
    "list(box.values())\n",
    "print(list(box))"
   ]
  },
  {
   "cell_type": "code",
   "execution_count": null,
   "metadata": {
    "scrolled": true
   },
   "outputs": [],
   "source": [
    "a = ['a.d','a.b','b.c','b.d']\n",
    "print(a)\n",
    "print(a[0][:a[0].index('.')])"
   ]
  },
  {
   "cell_type": "code",
   "execution_count": null,
   "metadata": {
    "scrolled": true
   },
   "outputs": [],
   "source": [
    "from collections import defaultdict\n",
    "artist = ['소녀시대','소녀시대','방탄소년단','방탄소년단']\n",
    "music = ['소원을 말해봐','다시 만난 세계','아이돌','DNA']\n",
    "box = defaultdict(list)\n",
    "for arti in enumerate(artist):\n",
    "    \n",
    "box"
   ]
  },
  {
   "cell_type": "code",
   "execution_count": null,
   "metadata": {
    "scrolled": true
   },
   "outputs": [],
   "source": [
    "box.keys()"
   ]
  },
  {
   "cell_type": "code",
   "execution_count": null,
   "metadata": {
    "scrolled": true
   },
   "outputs": [],
   "source": [
    "box.values()"
   ]
  },
  {
   "cell_type": "code",
   "execution_count": null,
   "metadata": {
    "scrolled": true
   },
   "outputs": [],
   "source": [
    "list(box.keys()).index('소녀시대')"
   ]
  },
  {
   "cell_type": "code",
   "execution_count": null,
   "metadata": {
    "scrolled": true
   },
   "outputs": [],
   "source": [
    "list(box.values())"
   ]
  },
  {
   "cell_type": "code",
   "execution_count": null,
   "metadata": {
    "scrolled": true
   },
   "outputs": [],
   "source": [
    "#print(box[1])\n",
    "print(box)\n",
    "print(box.keys())"
   ]
  },
  {
   "cell_type": "code",
   "execution_count": null,
   "metadata": {},
   "outputs": [],
   "source": [
    "from collections import defaultdict\n",
    "artist = ['소녀시대','소녀시대','방탄소년단','방탄소년단']\n",
    "music = ['소원을 말해봐','다시 만난 세계','아이돌','DNA']\n",
    "box = defaultdict(list)\n",
    "for i, arti in enumerate(artist):\n",
    "    print(i,music[i])\n",
    "list(box.keys())\n",
    "list(box.values())\n",
    "print(list(box))\n"
   ]
  },
  {
   "cell_type": "code",
   "execution_count": null,
   "metadata": {
    "scrolled": true
   },
   "outputs": [],
   "source": [
    "for i in artist:\n",
    "    print(music[artist.index(i): artist.index(i)+artist.count(i)])\n"
   ]
  },
  {
   "cell_type": "code",
   "execution_count": null,
   "metadata": {},
   "outputs": [],
   "source": [
    "from collections import defaultdict\n",
    "artist = ['소녀시대','소녀시대','방탄소년단','방탄소년단']\n",
    "music = ['소원을 말해봐','다시 만난 세계','아이돌','DNA']\n",
    "box = defaultdict(list)\n",
    "for i, arti in enumerate(artist):\n",
    "    box[arti].append(music[i])"
   ]
  },
  {
   "cell_type": "code",
   "execution_count": null,
   "metadata": {
    "scrolled": true
   },
   "outputs": [],
   "source": [
    "mlist = []\n",
    "for i in artist:\n",
    "    for j in music:\n",
    "        mlist.append([i,j])\n",
    "print(mlist)"
   ]
  },
  {
   "cell_type": "code",
   "execution_count": null,
   "metadata": {},
   "outputs": [],
   "source": [
    "from collections import defaultdict\n",
    "artist = ['소녀시대','소녀시대','방탄소년단','방탄소년단']\n",
    "music = ['소원을 말해봐','다시 만난 세계','아이돌','DNA']\n",
    "box = [defaultdict(list)]\n",
    "for i, arti in enumerate(artist):\n",
    "    box[arti].append(music[i])\n",
    "box"
   ]
  },
  {
   "cell_type": "code",
   "execution_count": null,
   "metadata": {
    "scrolled": false
   },
   "outputs": [],
   "source": [
    "box\n"
   ]
  },
  {
   "cell_type": "code",
   "execution_count": null,
   "metadata": {
    "scrolled": true
   },
   "outputs": [],
   "source": [
    "from collections import defaultdict\n",
    "artist = ['소녀시대','소녀시대','방탄소년단','방탄소년단']\n",
    "music = ['소원을 말해봐','다시 만난 세계','아이돌','DNA']\n",
    "box = defaultdict(list)\n",
    "for i, arti in enumerate(artist):\n",
    "    box[arti].append(music[i])\n",
    "box"
   ]
  },
  {
   "cell_type": "code",
   "execution_count": null,
   "metadata": {
    "scrolled": true
   },
   "outputs": [],
   "source": [
    "tmp = [[x,y] for x,y in zip(artist,music) ]\n",
    "tmp\n",
    "\n",
    "shuffle(tmp)\n",
    "tm"
   ]
  },
  {
   "cell_type": "code",
   "execution_count": null,
   "metadata": {
    "scrolled": true
   },
   "outputs": [],
   "source": [
    "from random import shuffle\n",
    "\n",
    "for i in range(len(tmp)):\n",
    "    print(tmp[i])\n",
    "shuffle(tmp)\n",
    "tmp"
   ]
  },
  {
   "cell_type": "code",
   "execution_count": 1,
   "metadata": {},
   "outputs": [
    {
     "name": "stdout",
     "output_type": "stream",
     "text": [
      "[['소녀시대', '소원을 말해봐'], ['방탄소년단', 'DNA'], ['소녀시대', '다시 만난 세계'], ['방탄소년단', '아이돌']]\n",
      "['소원을 말해봐', 'DNA', '다시 만난 세계', '아이돌']\n"
     ]
    }
   ],
   "source": [
    "from random import shuffle\n",
    "\n",
    "artist = ['소녀시대','소녀시대','방탄소년단','방탄소년단']\n",
    "music = ['소원을 말해봐','다시 만난 세계','아이돌','DNA']\n",
    "\n",
    "tmp = [[x,y] for x,y in zip(artist,music) ]\n",
    "\n",
    "while 1:\n",
    "    shuffle(tmp)\n",
    "    cnt = 0\n",
    "    for i in range(1,len(tmp)):\n",
    "        if tmp[i-1][0] != tmp[i][0]:\n",
    "            cnt += 1\n",
    "        else:\n",
    "            break\n",
    "    if cnt == len(tmp)-1:\n",
    "        print(tmp)\n",
    "        break\n",
    "mlist = []\n",
    "for k in range(len(tmp)):\n",
    "    mlist.append(tmp[k][1])\n",
    "print(mlist)"
   ]
  },
  {
   "cell_type": "code",
   "execution_count": null,
   "metadata": {},
   "outputs": [],
   "source": [
    "artist = ['소녀시대','BTS','악뮤','BTS','소녀시대','악뮤','YB','장범준','YB']\n",
    "music = ['GEE','아이돌','give love','DNA','다시만난세계','매력있어','박하사탕','벚꽃엔딩','너를보내고']"
   ]
  },
  {
   "cell_type": "code",
   "execution_count": null,
   "metadata": {},
   "outputs": [],
   "source": [
    "from random import shuffle\n",
    "\n",
    "artist = ['소녀시대','BTS','악뮤','BTS','소녀시대','악뮤','YB','장범준','YB']\n",
    "music = ['GEE','아이돌','give love','DNA','다시만난세계','매력있어','박하사탕','벚꽃엔딩','너를보내고']\n",
    "\n",
    "tmp = [[x,y] for x,y in zip(artist,music) ]\n",
    "\n",
    "while 1:\n",
    "    shuffle(tmp)\n",
    "    cnt = 0\n",
    "    for i in range(1,len(tmp)):\n",
    "        if tmp[i-1][0] != tmp[i][0]:\n",
    "            cnt += 1\n",
    "    if cnt == len(tmp)-1:\n",
    "        break\n",
    "mlist = []\n",
    "for k in range(len(tmp)):\n",
    "    mlist.append(tmp[k][1])\n",
    "print(mlist)"
   ]
  }
 ],
 "metadata": {
  "kernelspec": {
   "display_name": "Python 3",
   "language": "python",
   "name": "python3"
  },
  "language_info": {
   "codemirror_mode": {
    "name": "ipython",
    "version": 3
   },
   "file_extension": ".py",
   "mimetype": "text/x-python",
   "name": "python",
   "nbconvert_exporter": "python",
   "pygments_lexer": "ipython3",
   "version": "3.7.6"
  }
 },
 "nbformat": 4,
 "nbformat_minor": 4
}
