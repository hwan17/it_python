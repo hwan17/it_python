{
 "cells": [
  {
   "cell_type": "code",
   "execution_count": 2,
   "metadata": {},
   "outputs": [],
   "source": [
    "import csv \n",
    "file = open('c:\\\\data\\\\emp2.csv','r') \n",
    "emp_csv = csv.reader(file) \n",
    "for emp_list in emp_csv:\n",
    "    for i in (1,15):\n",
    "        if emp_list[0] == i:\n",
    "            print(emp_list[1], emp_list[5]) "
   ]
  },
  {
   "cell_type": "code",
   "execution_count": null,
   "metadata": {},
   "outputs": [],
   "source": [
    "\n",
    "file = open('c:\\\\data\\\\dept2.csv','r') \n",
    "dept_csv = csv.reader(file) \n",
    "\n",
    "    print(emp_list[7],emp_list[1], emp_list[5]) "
   ]
  },
  {
   "cell_type": "code",
   "execution_count": 135,
   "metadata": {
    "scrolled": false
   },
   "outputs": [
    {
     "name": "stdout",
     "output_type": "stream",
     "text": [
      "[['10', 'ACCOUNTING', 'NEW YORK'], ['20', 'RESEARCH', 'DALLAS'], ['30', 'SALES', 'CHICAGO'], ['40', 'OPERATIONS', 'BOSTON']]\n"
     ]
    }
   ],
   "source": [
    "import csv \n",
    "import copy\n",
    "file = open('c:\\\\data\\\\emp2.csv','r') \n",
    "emp_csv = csv.reader(file) \n",
    "file = open('c:\\\\data\\\\dept2.csv','r') \n",
    "dept_csv = csv.reader(file)\n",
    "dept = copy.deepcopy(list(dept_csv))\n",
    "print(dept)\n",
    "for emp_list in emp_csv:\n",
    "    a = emp_list[7]\n",
    "    for dept_list in dept\n",
    "        if dept_list[0] == a:\n",
    "            print(emp_list[1], emp_list[7], dept_list[2])\n",
    "            break\n"
   ]
  },
  {
   "cell_type": "code",
   "execution_count": 145,
   "metadata": {},
   "outputs": [
    {
     "name": "stdout",
     "output_type": "stream",
     "text": [
      "[['10', 'ACCOUNTING', 'NEW YORK'], ['20', 'RESEARCH', 'DALLAS'], ['30', 'SALES', 'CHICAGO'], ['40', 'OPERATIONS', 'BOSTON']]\n",
      "['10', 'ACCOUNTING', 'NEW YORK']\n",
      "['20', 'RESEARCH', 'DALLAS']\n",
      "['30', 'SALES', 'CHICAGO']\n",
      "['40', 'OPERATIONS', 'BOSTON']\n"
     ]
    }
   ],
   "source": [
    "import csv \n",
    "import copy\n",
    "file = open('c:\\\\data\\\\emp2.csv','r') \n",
    "emp_csv = csv.reader(file) \n",
    "file = open('c:\\\\data\\\\dept2.csv','r') \n",
    "dept_csv = list(csv.reader(file))\n",
    "print(dept_csv)\n",
    "for i in dept_csv:\n",
    "    print(i)"
   ]
  },
  {
   "cell_type": "code",
   "execution_count": 176,
   "metadata": {},
   "outputs": [
    {
     "name": "stdout",
     "output_type": "stream",
     "text": [
      "['10', 'ACCOUNTING', 'NEW YORK']\n",
      "['20', 'RESEARCH', 'DALLAS']\n",
      "['30', 'SALES', 'CHICAGO']\n",
      "['40', 'OPERATIONS', 'BOSTON']\n"
     ]
    }
   ],
   "source": [
    "import csv \n",
    "file = open('c:\\\\data\\\\emp2.csv','r') \n",
    "emp_csv = csv.reader(file) \n",
    "file = open('c:\\\\data\\\\dept2.csv','r') \n",
    "dept_csv = list(csv.reader(file) )\n",
    "for i in dept_csv:\n",
    "    print(i)\n"
   ]
  },
  {
   "cell_type": "code",
   "execution_count": 93,
   "metadata": {},
   "outputs": [
    {
     "name": "stdout",
     "output_type": "stream",
     "text": [
      "2\n",
      "NEW YORK\n",
      "DALLAS\n",
      "CHICAGO\n",
      "BOSTON\n",
      "3\n",
      "NEW YORK\n",
      "DALLAS\n",
      "CHICAGO\n",
      "BOSTON\n",
      "4\n",
      "NEW YORK\n",
      "DALLAS\n",
      "CHICAGO\n",
      "BOSTON\n",
      "5\n",
      "NEW YORK\n",
      "DALLAS\n",
      "CHICAGO\n",
      "BOSTON\n",
      "6\n",
      "NEW YORK\n",
      "DALLAS\n",
      "CHICAGO\n",
      "BOSTON\n",
      "7\n",
      "NEW YORK\n",
      "DALLAS\n",
      "CHICAGO\n",
      "BOSTON\n",
      "8\n",
      "NEW YORK\n",
      "DALLAS\n",
      "CHICAGO\n",
      "BOSTON\n",
      "9\n",
      "NEW YORK\n",
      "DALLAS\n",
      "CHICAGO\n",
      "BOSTON\n",
      "10\n",
      "NEW YORK\n",
      "DALLAS\n",
      "CHICAGO\n",
      "BOSTON\n"
     ]
    }
   ],
   "source": [
    "import csv \n",
    "file = open('c:\\\\data\\\\emp2.csv','r') \n",
    "emp_csv = csv.reader(file) \n",
    "for i in range(1,10):\n",
    "    i += 1\n",
    "    print(i)\n",
    "    file = open('c:\\\\data\\\\dept2.csv','r') \n",
    "    dept_csv = csv.reader(file) \n",
    "    for dept_list in dept_csv:\n",
    "        \n",
    "\n",
    "        print(dept_list[2])\n",
    "    \n"
   ]
  },
  {
   "cell_type": "code",
   "execution_count": 36,
   "metadata": {
    "scrolled": true
   },
   "outputs": [
    {
     "name": "stdout",
     "output_type": "stream",
     "text": [
      "1\n",
      "1\n",
      "2\n",
      "3\n",
      "4\n",
      "5\n",
      "6\n",
      "7\n",
      "8\n",
      "9\n",
      "2\n",
      "1\n",
      "2\n",
      "3\n",
      "4\n",
      "5\n",
      "6\n",
      "7\n",
      "8\n",
      "9\n",
      "3\n",
      "1\n",
      "2\n",
      "3\n",
      "4\n",
      "5\n",
      "6\n",
      "7\n",
      "8\n",
      "9\n",
      "4\n",
      "1\n",
      "2\n",
      "3\n",
      "4\n",
      "5\n",
      "6\n",
      "7\n",
      "8\n",
      "9\n",
      "5\n",
      "1\n",
      "2\n",
      "3\n",
      "4\n",
      "5\n",
      "6\n",
      "7\n",
      "8\n",
      "9\n",
      "6\n",
      "1\n",
      "2\n",
      "3\n",
      "4\n",
      "5\n",
      "6\n",
      "7\n",
      "8\n",
      "9\n",
      "7\n",
      "1\n",
      "2\n",
      "3\n",
      "4\n",
      "5\n",
      "6\n",
      "7\n",
      "8\n",
      "9\n",
      "8\n",
      "1\n",
      "2\n",
      "3\n",
      "4\n",
      "5\n",
      "6\n",
      "7\n",
      "8\n",
      "9\n",
      "9\n",
      "1\n",
      "2\n",
      "3\n",
      "4\n",
      "5\n",
      "6\n",
      "7\n",
      "8\n",
      "9\n"
     ]
    }
   ],
   "source": [
    "import csv \n",
    "file = open('c:\\\\data\\\\emp2.csv','r') \n",
    "emp_csv = csv.reader(file) \n",
    "file = open('c:\\\\data\\\\dept2.csv','r') \n",
    "dept_csv = csv.reader(file) \n",
    "i = 0\n",
    "j = 0\n",
    "for i in range(1, 10):\n",
    "    print(i)\n",
    "    for j in range(1,10):\n",
    "        print(j)\n",
    "        j += 1\n",
    "    i = i +1\n",
    "        \n"
   ]
  },
  {
   "cell_type": "code",
   "execution_count": 45,
   "metadata": {},
   "outputs": [
    {
     "name": "stdout",
     "output_type": "stream",
     "text": [
      "BLAKE 2850\n",
      "CLARK 2450\n",
      "JONES 2975\n",
      "MARTIN 1250\n",
      "ALLEN 1600\n",
      "TURNER 1500\n",
      "WARD 1250\n",
      "FORD 3000\n",
      "SCOTT 3000\n",
      "ADAMS 1100\n",
      "MILLER 1300\n"
     ]
    }
   ],
   "source": [
    "import csv \n",
    "file = open('c:\\\\data\\\\emp2.csv','r') \n",
    "emp_csv = csv.reader(file) \n",
    "for emp_list in emp_csv:\n",
    "    if 1000<=int(emp_list[5])<=3000:\n",
    "        print(emp_list[1], emp_list[5]) "
   ]
  },
  {
   "cell_type": "code",
   "execution_count": 61,
   "metadata": {
    "scrolled": true
   },
   "outputs": [
    {
     "name": "stdout",
     "output_type": "stream",
     "text": [
      "    ename   sal\n",
      "0    KING  5000\n",
      "7   JAMES   950\n",
      "10  SMITH   800\n"
     ]
    }
   ],
   "source": [
    "import pandas as pd\n",
    "emp = pd.read_csv('c:\\\\data\\\\emp3.csv')\n",
    "print(emp[['ename','sal']][~emp['sal'].between(1000,3000)])"
   ]
  },
  {
   "cell_type": "code",
   "execution_count": 79,
   "metadata": {
    "scrolled": true
   },
   "outputs": [
    {
     "name": "stdout",
     "output_type": "stream",
     "text": [
      "     ename       job\n",
      "4   MARTIN  SALESMAN\n",
      "5    ALLEN  SALESMAN\n",
      "6   TURNER  SALESMAN\n",
      "8     WARD  SALESMAN\n",
      "9     FORD   ANALYST\n",
      "11   SCOTT   ANALYST\n"
     ]
    }
   ],
   "source": [
    "import pandas as pd\n",
    "emp = pd.read_csv('c:\\\\data\\\\emp3.csv')\n",
    "print(emp[['ename','job']][emp['job'].isin(['SALESMAN','ANALYST'])])"
   ]
  },
  {
   "cell_type": "code",
   "execution_count": 82,
   "metadata": {
    "scrolled": true
   },
   "outputs": [
    {
     "name": "stdout",
     "output_type": "stream",
     "text": [
      "     ename        job\n",
      "0     KING  PRESIDENT\n",
      "1    BLAKE    MANAGER\n",
      "2    CLARK    MANAGER\n",
      "3    JONES    MANAGER\n",
      "7    JAMES      CLERK\n",
      "10   SMITH      CLERK\n",
      "12   ADAMS      CLERK\n",
      "13  MILLER      CLERK\n"
     ]
    }
   ],
   "source": [
    "import pandas as pd\n",
    "emp = pd.read_csv('c:\\\\data\\\\emp3.csv')\n",
    "print(emp[['ename','job']][emp['job'].isin(['SALESMAN','ANALYST'])==False])"
   ]
  },
  {
   "cell_type": "code",
   "execution_count": 88,
   "metadata": {},
   "outputs": [
    {
     "name": "stdout",
     "output_type": "stream",
     "text": [
      "    ename    comm\n",
      "4  MARTIN  1400.0\n",
      "5   ALLEN   300.0\n",
      "6  TURNER     0.0\n",
      "8    WARD   500.0\n"
     ]
    }
   ],
   "source": [
    "import pandas as pd\n",
    "emp = pd.read_csv('c:\\\\data\\\\emp3.csv')\n",
    "print(emp[['ename','comm']][~emp['comm'].isnull()])"
   ]
  },
  {
   "cell_type": "code",
   "execution_count": 104,
   "metadata": {
    "scrolled": true
   },
   "outputs": [
    {
     "name": "stdout",
     "output_type": "stream",
     "text": [
      "s\n",
      "s\n"
     ]
    }
   ],
   "source": [
    "a = 'scott'\n",
    "print(a[0])\n",
    "print(a[-5])"
   ]
  },
  {
   "cell_type": "code",
   "execution_count": null,
   "metadata": {},
   "outputs": [],
   "source": [
    "import pandas as pd\n",
    "emp = pd.read_csv('c:\\\\data\\\\emp3.csv')\n",
    "print(emp[['ename']][emp['name'].apply()])"
   ]
  },
  {
   "cell_type": "code",
   "execution_count": 118,
   "metadata": {},
   "outputs": [
    {
     "name": "stdout",
     "output_type": "stream",
     "text": [
      "SCOTT\n"
     ]
    }
   ],
   "source": [
    "import csv \n",
    "file = open('c:\\\\data\\\\emp2.csv','r') \n",
    "emp_csv = csv.reader(file) \n",
    "for emp_list in emp_csv:\n",
    "    if emp_list[1][-1] == 'T':\n",
    "        print(emp_list[1]) "
   ]
  },
  {
   "cell_type": "code",
   "execution_count": 112,
   "metadata": {},
   "outputs": [
    {
     "name": "stdout",
     "output_type": "stream",
     "text": [
      "K\n",
      "B\n",
      "C\n",
      "J\n",
      "M\n",
      "A\n",
      "T\n",
      "J\n",
      "W\n",
      "F\n",
      "S\n",
      "S\n",
      "A\n",
      "M\n"
     ]
    }
   ],
   "source": [
    "import csv \n",
    "file = open('c:\\\\data\\\\emp2.csv','r') \n",
    "emp_csv = csv.reader(file) \n",
    "for emp_list in emp_csv:\n",
    "    print(emp_list[1][0]) "
   ]
  },
  {
   "cell_type": "code",
   "execution_count": 117,
   "metadata": {},
   "outputs": [
    {
     "name": "stdout",
     "output_type": "stream",
     "text": [
      "    ename\n",
      "10  SMITH\n",
      "11  SCOTT\n"
     ]
    }
   ],
   "source": [
    "import pandas as pd\n",
    "emp = pd.read_csv('c:\\\\data\\\\emp3.csv')\n",
    "result = emp['ename'].apply(lambda x:x[0]=='S')\n",
    "#print(result)\n",
    "result2 = emp[['ename']][result==True]\n",
    "print(result2)"
   ]
  },
  {
   "cell_type": "code",
   "execution_count": 120,
   "metadata": {},
   "outputs": [
    {
     "name": "stdout",
     "output_type": "stream",
     "text": [
      "4\n"
     ]
    }
   ],
   "source": [
    "listdata = [1,2,3,4]\n",
    "print(listdata[3])"
   ]
  },
  {
   "cell_type": "code",
   "execution_count": 121,
   "metadata": {},
   "outputs": [
    {
     "name": "stdout",
     "output_type": "stream",
     "text": [
      "4\n"
     ]
    }
   ],
   "source": [
    "listdata = [1,2,[4,5,6]]\n",
    "print(listdata[2][0])"
   ]
  },
  {
   "cell_type": "code",
   "execution_count": 122,
   "metadata": {
    "scrolled": true
   },
   "outputs": [
    {
     "name": "stdout",
     "output_type": "stream",
     "text": [
      "co\n"
     ]
    }
   ],
   "source": [
    "a = 'scott'\n",
    "print(a[1:3])"
   ]
  },
  {
   "cell_type": "code",
   "execution_count": 128,
   "metadata": {},
   "outputs": [
    {
     "name": "stdout",
     "output_type": "stream",
     "text": [
      "ING\n",
      "AKE\n",
      "ARK\n",
      "NES\n",
      "TIN\n",
      "LEN\n",
      "NER\n",
      "MES\n",
      "ARD\n",
      "ORD\n",
      "ITH\n",
      "OTT\n",
      "AMS\n",
      "LER\n"
     ]
    }
   ],
   "source": [
    "import csv \n",
    "file = open('c:\\\\data\\\\emp2.csv','r') \n",
    "emp_csv = csv.reader(file) \n",
    "for emp_list in emp_csv:\n",
    "    print(emp_list[1][-3:]) "
   ]
  },
  {
   "cell_type": "code",
   "execution_count": 129,
   "metadata": {},
   "outputs": [
    {
     "name": "stdout",
     "output_type": "stream",
     "text": [
      "i love python\n"
     ]
    }
   ],
   "source": [
    "a = 'i love '\n",
    "b = 'python'\n",
    "print(a+b)"
   ]
  },
  {
   "cell_type": "code",
   "execution_count": 130,
   "metadata": {
    "scrolled": true
   },
   "outputs": [
    {
     "name": "stdout",
     "output_type": "stream",
     "text": [
      "[2, 3, 4, 5, 9, 2, 4, 8]\n"
     ]
    }
   ],
   "source": [
    "a = [2,3,4,5]\n",
    "b = [9,2,4,8]\n",
    "print (a+b)"
   ]
  },
  {
   "cell_type": "code",
   "execution_count": 151,
   "metadata": {},
   "outputs": [
    {
     "name": "stdout",
     "output_type": "stream",
     "text": [
      "King\n",
      "Blake\n",
      "Clark\n",
      "Jones\n",
      "Martin\n",
      "Allen\n",
      "Turner\n",
      "James\n",
      "Ward\n",
      "Ford\n",
      "Smith\n",
      "Scott\n",
      "Adams\n",
      "Miller\n"
     ]
    }
   ],
   "source": [
    "import csv \n",
    "file = open('c:\\\\data\\\\emp2.csv','r') \n",
    "emp_csv = csv.reader(file) \n",
    "for emp_list in emp_csv:\n",
    "    print(emp_list[1][0].upper()+emp_list[1][1:].lower()) "
   ]
  },
  {
   "cell_type": "code",
   "execution_count": 154,
   "metadata": {},
   "outputs": [
    {
     "name": "stdout",
     "output_type": "stream",
     "text": [
      "[1, 2, 3, 1, 2, 3, 1, 2, 3, 1, 2, 3, 1, 2, 3, 1, 2, 3, 1, 2, 3]\n"
     ]
    }
   ],
   "source": [
    "print([1,2,3]*7)"
   ]
  },
  {
   "cell_type": "code",
   "execution_count": 166,
   "metadata": {
    "scrolled": true
   },
   "outputs": [
    {
     "name": "stdout",
     "output_type": "stream",
     "text": [
      "5\n",
      "        ☆\n",
      "      ☆☆\n",
      "    ☆☆☆\n",
      "  ☆☆☆☆\n",
      "☆☆☆☆☆\n"
     ]
    }
   ],
   "source": [
    "a = int(input(''))\n",
    "\n",
    "for i in range(a,0,-1):\n",
    "    print(2*(i-1)*' '+(a+1-i)*'☆')\n"
   ]
  },
  {
   "cell_type": "code",
   "execution_count": 167,
   "metadata": {},
   "outputs": [
    {
     "name": "stdout",
     "output_type": "stream",
     "text": [
      "7\n",
      "5\n"
     ]
    }
   ],
   "source": [
    "strdata = 'abcedfg'\n",
    "listdata = ['a','b','c','d','e']\n",
    "\n",
    "print(len(strdata))\n",
    "print(len(listdata))\n"
   ]
  },
  {
   "cell_type": "code",
   "execution_count": 168,
   "metadata": {},
   "outputs": [
    {
     "name": "stdout",
     "output_type": "stream",
     "text": [
      "KING 4\n",
      "BLAKE 5\n",
      "CLARK 5\n",
      "JONES 5\n",
      "MARTIN 6\n",
      "ALLEN 5\n",
      "TURNER 6\n",
      "JAMES 5\n",
      "WARD 4\n",
      "FORD 4\n",
      "SMITH 5\n",
      "SCOTT 5\n",
      "ADAMS 5\n",
      "MILLER 6\n"
     ]
    }
   ],
   "source": [
    "import csv \n",
    "file = open('c:\\\\data\\\\emp2.csv','r') \n",
    "emp_csv = csv.reader(file) \n",
    "for emp_list in emp_csv:\n",
    "    if 1:\n",
    "        print(emp_list[1],len(emp_list[1])) "
   ]
  },
  {
   "cell_type": "markdown",
   "metadata": {},
   "source": [
    "import  cx_Oracle\n",
    "import pandas as pd\n",
    "\n",
    "dsn = cx_Oracle.makedsn('localhost',1521,'orcl')\n",
    "db = cx_Oracle.connect('scott','tiger',dsn)\n",
    "cursor = db.cursor()\n",
    "cursor.execute(\"\"\" select * from emp \"\"\")\n",
    "row = cursor.fetchall()\n",
    "colname = cursor.description \n",
    "cursor.close() \n",
    "col = [ ] \n",
    "for i in colname: \n",
    "\tcol.append(i[0]) \n",
    "emp = pd.DataFrame(row,columns = col)\n",
    "print(emp[['ENAME','SAL']][emp['SAL'] >= 1200])"
   ]
  },
  {
   "cell_type": "code",
   "execution_count": 185,
   "metadata": {},
   "outputs": [
    {
     "name": "stdout",
     "output_type": "stream",
     "text": [
      "     ENAME     SAL\n",
      "0     KING  5000.0\n",
      "1    BLAKE  2850.0\n",
      "2    CLARK  2450.0\n",
      "3    JONES  2975.0\n",
      "4   MARTIN  1250.0\n",
      "5    ALLEN  1600.0\n",
      "6   TURNER  1500.0\n",
      "8     WARD  1250.0\n",
      "9     FORD  3000.0\n",
      "11   SCOTT  3000.0\n",
      "13  MILLER  1300.0\n"
     ]
    }
   ],
   "source": [
    "import cx_Oracle \n",
    "import pandas as pd\n",
    "\n",
    "dsn = cx_Oracle.makedsn('localhost',1521,'orcl') \n",
    "db = cx_Oracle.connect('scott','tiger',dsn) \n",
    "cursor = db.cursor() \n",
    "cursor.execute(\"\"\" select * from emp \"\"\") \n",
    "row = cursor.fetchall() \n",
    "colname = cursor.description \n",
    "cursor.close() \n",
    "col = [ ] \n",
    "for i in colname: \n",
    "    col.append(i[0]) \n",
    "emp = pd.DataFrame(row,columns = col) \n",
    "print(emp[['ENAME','SAL']][emp['SAL'] >= 1200])"
   ]
  },
  {
   "cell_type": "code",
   "execution_count": 174,
   "metadata": {},
   "outputs": [
    {
     "name": "stdout",
     "output_type": "stream",
     "text": [
      "    0           1         2\n",
      "0  10  ACCOUNTING  NEW YORK\n",
      "1  20    RESEARCH    DALLAS\n",
      "2  30       SALES   CHICAGO\n",
      "3  40  OPERATIONS    BOSTON\n"
     ]
    }
   ],
   "source": [
    "import  cx_Oracle\n",
    "import pandas as pd\n",
    "\n",
    "dsn = cx_Oracle.makedsn('localhost',1521,'orcl')\n",
    "db = cx_Oracle.connect('scott','tiger',dsn)\n",
    "cursor = db.cursor()\n",
    "cursor.execute(\"\"\" select * from dept \"\"\")\n",
    "row = cursor.fetchall()\n",
    "dept = pd.DataFrame(row)\n",
    "print(dept)\n"
   ]
  },
  {
   "cell_type": "code",
   "execution_count": 175,
   "metadata": {},
   "outputs": [
    {
     "name": "stdout",
     "output_type": "stream",
     "text": [
      "   DEPTNO       DNAME       LOC\n",
      "0      10  ACCOUNTING  NEW YORK\n",
      "1      20    RESEARCH    DALLAS\n",
      "2      30       SALES   CHICAGO\n",
      "3      40  OPERATIONS    BOSTON\n"
     ]
    }
   ],
   "source": [
    "\t\n",
    "dsn = cx_Oracle.makedsn('localhost',1521,'orcl')\n",
    "db = cx_Oracle.connect('scott','tiger',dsn)\n",
    "cursor = db.cursor()\n",
    "cursor.execute(\"\"\" select * from dept \"\"\")\n",
    "row = cursor.fetchall()\n",
    "colname = cursor.description\n",
    "cursor.close()\n",
    "col = [ ]\n",
    "for i in colname:\n",
    "\tcol.append(i[0])\n",
    "dept = pd.DataFrame(row, columns = col)\n",
    "print(dept)\n"
   ]
  },
  {
   "cell_type": "code",
   "execution_count": 177,
   "metadata": {},
   "outputs": [
    {
     "ename": "SyntaxError",
     "evalue": "invalid character in identifier (<ipython-input-177-96836973f966>, line 10)",
     "output_type": "error",
     "traceback": [
      "\u001b[1;36m  File \u001b[1;32m\"<ipython-input-177-96836973f966>\"\u001b[1;36m, line \u001b[1;32m10\u001b[0m\n\u001b[1;33m    for emp_list in emp :\u001b[0m\n\u001b[1;37m    ^\u001b[0m\n\u001b[1;31mSyntaxError\u001b[0m\u001b[1;31m:\u001b[0m invalid character in identifier\n"
     ]
    }
   ],
   "source": [
    "import csv\n",
    "import copy\n",
    "\n",
    "file=open(\"c:\\\\data\\\\emp2.csv\",'r')\n",
    "emp=csv.reader(file)\n",
    "file=open(\"c:\\\\data\\\\dept2.csv\",\"r\")\n",
    "dept=csv.reader(file)\n",
    "\n",
    "for dept_list in dept:\n",
    "    for emp_list in emp :\n",
    "        if dept_list[0]==emp_list[7]:\n",
    "            print(emp_list[1], dept_list[2])"
   ]
  },
  {
   "cell_type": "code",
   "execution_count": 186,
   "metadata": {},
   "outputs": [
    {
     "name": "stdout",
     "output_type": "stream",
     "text": [
      "     ENAME     SAL  DEPTNO\n",
      "0     KING  5000.0      10\n",
      "2    CLARK  2450.0      10\n",
      "13  MILLER  1300.0      10\n"
     ]
    }
   ],
   "source": [
    "import cx_Oracle \n",
    "import pandas as pd\n",
    "\n",
    "dsn = cx_Oracle.makedsn('localhost',1521,'orcl') \n",
    "db = cx_Oracle.connect('scott','tiger',dsn) \n",
    "cursor = db.cursor() \n",
    "cursor.execute(\"\"\" select * from emp \"\"\") \n",
    "row = cursor.fetchall() \n",
    "colname = cursor.description \n",
    "cursor.close() \n",
    "col = [ ] \n",
    "for i in colname: \n",
    "    col.append(i[0]) \n",
    "emp = pd.DataFrame(row,columns = col) \n",
    "print(emp[['ENAME','SAL','DEPTNO']][emp['DEPTNO'] ==10])"
   ]
  },
  {
   "cell_type": "code",
   "execution_count": 187,
   "metadata": {},
   "outputs": [
    {
     "name": "stdout",
     "output_type": "stream",
     "text": [
      "     ENAME     SAL  DEPTNO\n",
      "0     KING  5000.0      10\n",
      "2    CLARK  2450.0      10\n",
      "13  MILLER  1300.0      10\n"
     ]
    }
   ],
   "source": [
    "print(emp[['ENAME','SAL','DEPTNO']][emp['DEPTNO'] ==10])"
   ]
  },
  {
   "cell_type": "code",
   "execution_count": 188,
   "metadata": {},
   "outputs": [
    {
     "name": "stdout",
     "output_type": "stream",
     "text": [
      "False True\n"
     ]
    }
   ],
   "source": [
    "listdata = [1,2,3,4]\n",
    "a = 5 in listdata\n",
    "b = 4 in listdata\n",
    "print(a,b)"
   ]
  },
  {
   "cell_type": "code",
   "execution_count": 189,
   "metadata": {},
   "outputs": [
    {
     "name": "stdout",
     "output_type": "stream",
     "text": [
      "     ENAME     SAL  DEPTNO\n",
      "0     KING  5000.0      10\n",
      "2    CLARK  2450.0      10\n",
      "3    JONES  2975.0      20\n",
      "9     FORD  3000.0      20\n",
      "10   SMITH   800.0      20\n",
      "11   SCOTT  3000.0      20\n",
      "12   ADAMS  1100.0      20\n",
      "13  MILLER  1300.0      10\n"
     ]
    }
   ],
   "source": [
    "print(emp[['ENAME','SAL','DEPTNO']][emp['DEPTNO'].isin([10,20])])"
   ]
  },
  {
   "cell_type": "code",
   "execution_count": 197,
   "metadata": {},
   "outputs": [
    {
     "name": "stdout",
     "output_type": "stream",
     "text": [
      "    ENAME     SAL       JOB\n",
      "4  MARTIN  1250.0  SALESMAN\n",
      "5   ALLEN  1600.0  SALESMAN\n",
      "6  TURNER  1500.0  SALESMAN\n",
      "8    WARD  1250.0  SALESMAN\n"
     ]
    }
   ],
   "source": [
    "print(emp[['ENAME','SAL','JOB']][(emp['JOB']=='SALESMAN')&(emp['SAL']>= 1000)])"
   ]
  },
  {
   "cell_type": "code",
   "execution_count": 198,
   "metadata": {},
   "outputs": [
    {
     "name": "stdout",
     "output_type": "stream",
     "text": [
      "나는 자바보다 파이썬에 더 익숙합니다.\n"
     ]
    }
   ],
   "source": [
    "txt1 = '자바'\n",
    "txt2 = '파이썬'\n",
    "num1 = 5\n",
    "num2 = 10\n",
    "print('나는 %s보다 %s에 더 익숙합니다.' %(txt1,txt2) )"
   ]
  },
  {
   "cell_type": "code",
   "execution_count": 199,
   "metadata": {},
   "outputs": [
    {
     "name": "stdout",
     "output_type": "stream",
     "text": [
      "5.000000는 10.000000보다 작습니다.\n"
     ]
    }
   ],
   "source": [
    "txt1 = '자바'\n",
    "txt2 = '파이썬'\n",
    "num1 = 5\n",
    "num2 = 10\n",
    "print('%f는 %f보다 작습니다.' %(num1,num2) )"
   ]
  },
  {
   "cell_type": "code",
   "execution_count": 216,
   "metadata": {
    "scrolled": true
   },
   "outputs": [
    {
     "name": "stdout",
     "output_type": "stream",
     "text": [
      "KING의 월급은 5000.000000 입니다.\n",
      "BLAKE의 월급은 2850.000000 입니다.\n",
      "CLARK의 월급은 2450.000000 입니다.\n",
      "JONES의 월급은 2975.000000 입니다.\n",
      "MARTIN의 월급은 1250.000000 입니다.\n",
      "ALLEN의 월급은 1600.000000 입니다.\n",
      "TURNER의 월급은 1500.000000 입니다.\n",
      "JAMES의 월급은 950.000000 입니다.\n",
      "WARD의 월급은 1250.000000 입니다.\n",
      "FORD의 월급은 3000.000000 입니다.\n",
      "SMITH의 월급은 800.000000 입니다.\n",
      "SCOTT의 월급은 3000.000000 입니다.\n",
      "ADAMS의 월급은 1100.000000 입니다.\n",
      "MILLER의 월급은 1300.000000 입니다.\n"
     ]
    }
   ],
   "source": [
    "for i in range(14):\n",
    "    print('%s의 월급은 %f 입니다.' %(emp['ename'].values[i],emp['sal'].values[i]) )"
   ]
  },
  {
   "cell_type": "code",
   "execution_count": 220,
   "metadata": {},
   "outputs": [
    {
     "name": "stdout",
     "output_type": "stream",
     "text": [
      "나는 파이썬을 배웁니다 \n",
      " 파이썬은 자바보다 \\ 훨씬 쉽습니다.\n"
     ]
    }
   ],
   "source": [
    "print('나는 파이썬을 배웁니다 \\n 파이썬은 자바보다 \\\\ \\\n",
    "훨씬 쉽습니다.')"
   ]
  },
  {
   "cell_type": "code",
   "execution_count": 221,
   "metadata": {},
   "outputs": [
    {
     "name": "stdout",
     "output_type": "stream",
     "text": [
      "나는 '파이썬'을 배웁니다.\n"
     ]
    }
   ],
   "source": [
    "print('나는 \\'파이썬\\'을 배웁니다.')"
   ]
  },
  {
   "cell_type": "code",
   "execution_count": 222,
   "metadata": {},
   "outputs": [
    {
     "name": "stdout",
     "output_type": "stream",
     "text": [
      "1\n"
     ]
    }
   ],
   "source": [
    "a = [1,2,3,4,5]\n",
    "\n",
    "print(a[0])\n"
   ]
  },
  {
   "cell_type": "code",
   "execution_count": 223,
   "metadata": {
    "scrolled": true
   },
   "outputs": [
    {
     "name": "stdout",
     "output_type": "stream",
     "text": [
      "2\n"
     ]
    }
   ],
   "source": [
    "b = [[1,2],[3,4]]\n",
    "\n",
    "print(b[0][1])\n"
   ]
  },
  {
   "cell_type": "code",
   "execution_count": 236,
   "metadata": {
    "scrolled": true
   },
   "outputs": [
    {
     "ename": "IndexError",
     "evalue": "list index out of range",
     "output_type": "error",
     "traceback": [
      "\u001b[1;31m---------------------------------------------------------------------------\u001b[0m",
      "\u001b[1;31mIndexError\u001b[0m                                Traceback (most recent call last)",
      "\u001b[1;32m<ipython-input-236-a3e0daa45557>\u001b[0m in \u001b[0;36m<module>\u001b[1;34m\u001b[0m\n\u001b[0;32m      4\u001b[0m \u001b[1;32mfor\u001b[0m \u001b[0mi\u001b[0m \u001b[1;32min\u001b[0m \u001b[0mrange\u001b[0m\u001b[1;33m(\u001b[0m\u001b[0mlen\u001b[0m\u001b[1;33m(\u001b[0m\u001b[0mb\u001b[0m\u001b[1;33m)\u001b[0m\u001b[1;33m)\u001b[0m\u001b[1;33m:\u001b[0m\u001b[1;33m\u001b[0m\u001b[1;33m\u001b[0m\u001b[0m\n\u001b[0;32m      5\u001b[0m     \u001b[1;32mfor\u001b[0m \u001b[0mj\u001b[0m \u001b[1;32min\u001b[0m \u001b[0mrange\u001b[0m\u001b[1;33m(\u001b[0m\u001b[0mlen\u001b[0m\u001b[1;33m(\u001b[0m\u001b[0mb\u001b[0m\u001b[1;33m[\u001b[0m\u001b[0mi\u001b[0m\u001b[1;33m]\u001b[0m\u001b[1;33m)\u001b[0m\u001b[1;33m)\u001b[0m\u001b[1;33m:\u001b[0m\u001b[1;33m\u001b[0m\u001b[1;33m\u001b[0m\u001b[0m\n\u001b[1;32m----> 6\u001b[1;33m         \u001b[0mc\u001b[0m\u001b[1;33m[\u001b[0m\u001b[0mi\u001b[0m\u001b[1;33m]\u001b[0m\u001b[1;33m[\u001b[0m\u001b[0mj\u001b[0m\u001b[1;33m]\u001b[0m \u001b[1;33m=\u001b[0m \u001b[0ma\u001b[0m\u001b[1;33m[\u001b[0m\u001b[0mi\u001b[0m\u001b[1;33m]\u001b[0m\u001b[1;33m[\u001b[0m\u001b[0mj\u001b[0m\u001b[1;33m]\u001b[0m\u001b[1;33m+\u001b[0m\u001b[0mb\u001b[0m\u001b[1;33m[\u001b[0m\u001b[0mi\u001b[0m\u001b[1;33m]\u001b[0m\u001b[1;33m[\u001b[0m\u001b[0mj\u001b[0m\u001b[1;33m]\u001b[0m\u001b[1;33m\u001b[0m\u001b[1;33m\u001b[0m\u001b[0m\n\u001b[0m\u001b[0;32m      7\u001b[0m \u001b[0mprint\u001b[0m\u001b[1;33m(\u001b[0m\u001b[0mc\u001b[0m\u001b[1;33m)\u001b[0m\u001b[1;33m\u001b[0m\u001b[1;33m\u001b[0m\u001b[0m\n\u001b[0;32m      8\u001b[0m \u001b[1;33m\u001b[0m\u001b[0m\n",
      "\u001b[1;31mIndexError\u001b[0m: list index out of range"
     ]
    }
   ],
   "source": [
    "a = [[2,4],[5,7]]\n",
    "b = [[1,3],[4,2]]\n",
    "c = [ ]\n",
    "for i in range(len(b)):\n",
    "    for j in range(len(b[i])):\n",
    "        c[i][j] = a[i][j]+b[i][j]\n",
    "print(c)       \n",
    "        \n"
   ]
  },
  {
   "cell_type": "code",
   "execution_count": 239,
   "metadata": {},
   "outputs": [
    {
     "name": "stdout",
     "output_type": "stream",
     "text": [
      "3\n",
      "7\n",
      "9\n",
      "9\n"
     ]
    }
   ],
   "source": [
    "a = [[2,4],[5,7]]\n",
    "b = [[1,3],[4,2]]\n",
    "for i in range(len(b)):\n",
    "    for j in range(len(b[i])):\n",
    "        print(a[i][j]+b[i][j])"
   ]
  }
 ],
 "metadata": {
  "kernelspec": {
   "display_name": "Python 3",
   "language": "python",
   "name": "python3"
  },
  "language_info": {
   "codemirror_mode": {
    "name": "ipython",
    "version": 3
   },
   "file_extension": ".py",
   "mimetype": "text/x-python",
   "name": "python",
   "nbconvert_exporter": "python",
   "pygments_lexer": "ipython3",
   "version": "3.7.6"
  }
 },
 "nbformat": 4,
 "nbformat_minor": 4
}
